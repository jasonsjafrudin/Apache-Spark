{
  "cells": [
    {
      "cell_type": "code",
      "execution_count": null,
      "metadata": {
        "id": "UNo7SbmZb0to"
      },
      "outputs": [],
      "source": [
        "# Update environment (if needed)\n",
        "# !sudo apt update\n",
        "\n",
        "# Download and install Java\n",
        "!sudo apt-get install openjdk-8-jdk-headless -qq > /dev/null\n",
        "\n",
        "# Install Apache Spark with Hadoop\n",
        "!wget -nc -q https://downloads.apache.org/spark/spark-3.5.0/spark-3.5.0-bin-hadoop3.tgz\n",
        "\n",
        "# Unzip the folder\n",
        "!tar xf spark-3.5.0-bin-hadoop3.tgz\n",
        "\n",
        "# Install findspark library that will locate Spark on the system\n",
        "!pip install -q findspark"
      ]
    },
    {
      "cell_type": "code",
      "execution_count": null,
      "metadata": {
        "id": "9rlff0Gdb-FQ"
      },
      "outputs": [],
      "source": [
        "# Setting the environment variables, to enable running PySpark in Colab environment.\n",
        "\n",
        "import os\n",
        "import shutil\n",
        "from itertools import islice\n",
        "import requests\n",
        "\n",
        "os.environ[\"JAVA_HOME\"] = \"/usr/lib/jvm/java-8-openjdk-amd64\"\n",
        "os.environ[\"SPARK_HOME\"] = \"/content/spark-3.5.0-bin-hadoop3\""
      ]
    },
    {
      "cell_type": "code",
      "execution_count": null,
      "metadata": {
        "id": "IFfjA-1zcEY1"
      },
      "outputs": [],
      "source": [
        "# Locate Spark in the system\n",
        "\n",
        "import findspark\n",
        "findspark.init()"
      ]
    },
    {
      "cell_type": "markdown",
      "metadata": {
        "id": "s-qGk0G-Iwz2"
      },
      "source": [
        "#### Import SparkSession and SparkSQL"
      ]
    },
    {
      "cell_type": "code",
      "execution_count": null,
      "metadata": {
        "colab": {
          "base_uri": "https://localhost:8080/",
          "height": 35
        },
        "id": "ZmVWSriBey_P",
        "outputId": "18f498ae-f9f2-472b-99bc-003d21f7a613"
      },
      "outputs": [
        {
          "data": {
            "application/vnd.google.colaboratory.intrinsic+json": {
              "type": "string"
            },
            "text/plain": [
              "'3.5.0'"
            ]
          },
          "execution_count": 122,
          "metadata": {},
          "output_type": "execute_result"
        }
      ],
      "source": [
        "from pyspark.sql import SparkSession\n",
        "from pyspark.sql.functions import *\n",
        "# from pyspark.sql import functions as F\n",
        "from pyspark.sql.types import *\n",
        "\n",
        "# Create spark_session\n",
        "spark = SparkSession.builder.getOrCreate()\n",
        "sc = spark.sparkContext\n",
        "\n",
        "spark.version"
      ]
    },
    {
      "cell_type": "code",
      "execution_count": null,
      "metadata": {
        "id": "e4Reeb9kmR7t"
      },
      "outputs": [],
      "source": []
    },
    {
      "cell_type": "markdown",
      "metadata": {
        "id": "ym5VDiLoFzXO"
      },
      "source": [
        "#### Mount Google drive, we will be using GDrive for processing\n",
        "Files will be present in \"/content/drive/My Drive\"."
      ]
    },
    {
      "cell_type": "code",
      "execution_count": null,
      "metadata": {
        "colab": {
          "base_uri": "https://localhost:8080/"
        },
        "id": "UukyscmJnS5C",
        "outputId": "75937d92-4565-475c-9535-eb5a58e11f0f"
      },
      "outputs": [
        {
          "name": "stdout",
          "output_type": "stream",
          "text": [
            "Drive already mounted at /content/drive; to attempt to forcibly remount, call drive.mount(\"/content/drive\", force_remount=True).\n"
          ]
        }
      ],
      "source": [
        "# Load the Drive helper and mount\n",
        "from google.colab import drive\n",
        "\n",
        "# This will prompt for authorization.\n",
        "drive.mount('/content/drive')"
      ]
    },
    {
      "cell_type": "markdown",
      "metadata": {
        "id": "cAdgeffDoRxd"
      },
      "source": [
        "#### Set-up helper functions"
      ]
    },
    {
      "cell_type": "code",
      "execution_count": null,
      "metadata": {
        "id": "emiDh-hn5BzS"
      },
      "outputs": [],
      "source": [
        "import os\n",
        "import shutil\n",
        "from itertools import islice\n",
        "import requests\n",
        "import pandas as pd\n",
        "\n",
        "pd.set_option(\"max_colwidth\", 100)"
      ]
    },
    {
      "cell_type": "code",
      "execution_count": null,
      "metadata": {
        "id": "VijGZwN9_IsE"
      },
      "outputs": [],
      "source": [
        "def list_files(dir_name):\n",
        "    try:\n",
        "        list_of_files = [file_name for file_name in os.listdir(dir_name) if os.path.isfile(os.path.join(dir_name, file_name))]\n",
        "        files_with_size = [ (file_name, os.stat(os.path.join(dir_name, file_name)).st_size)\n",
        "                    for file_name in list_of_files if not file_name.startswith('.')]\n",
        "        for file_name, size in files_with_size:\n",
        "            print(file_name, ' -->', size)\n",
        "    except OSError as e:\n",
        "        print(\"Error: %s : %s\" % (dir_name, e.strerror))"
      ]
    },
    {
      "cell_type": "code",
      "execution_count": null,
      "metadata": {
        "id": "w1WBj4n-o2K6"
      },
      "outputs": [],
      "source": [
        "def delete_folder(dir_name):\n",
        "    try:\n",
        "        shutil.rmtree(dir_name)\n",
        "    except OSError as e:\n",
        "        print(\"Error: %s : %s\" % (dir_name, e.strerror))"
      ]
    },
    {
      "cell_type": "markdown",
      "metadata": {
        "id": "60hZhI-R5BzU"
      },
      "source": [
        "#### Pull source data from GCS into Colab"
      ]
    },
    {
      "cell_type": "code",
      "execution_count": null,
      "metadata": {
        "id": "_uhVa7mXohFe"
      },
      "outputs": [],
      "source": [
        "def get_gcs_data (bucket_name, folder_name, file_name, path_gdrive):\n",
        "    url = 'https://storage.googleapis.com/' + bucket_name + '/' + folder_name + '/' + file_name\n",
        "    r = requests.get(url)\n",
        "    open(path_gdrive + '/' + file_name , 'wb').write(r.content)"
      ]
    },
    {
      "cell_type": "markdown",
      "metadata": {
        "id": "D5ZY8uwORA2T"
      },
      "source": [
        "BDP Assignment 6"
      ]
    },
    {
      "cell_type": "code",
      "execution_count": null,
      "metadata": {
        "colab": {
          "base_uri": "https://localhost:8080/"
        },
        "id": "TjsubaeBQ_yE",
        "outputId": "25e48109-5b3b-4ef6-a6a7-e76c75ef722f"
      },
      "outputs": [
        {
          "name": "stdout",
          "output_type": "stream",
          "text": [
            "Downloaded: 2007.csv\n",
            "Downloaded: 2008.csv\n"
          ]
        }
      ],
      "source": [
        "#Copy files from GCS bucket into my Google Drive:\n",
        "#https://storage.googleapis.com/msca-bdp-data-open/airlines/2007.csvLinks to an external site.\n",
        "#https://storage.googleapis.com/msca-bdp-data-open/airlines/2008.csvLinks to an external site.\n",
        "\n",
        "bucket_name = 'msca-bdp-data-open'\n",
        "folder_name = 'airlines'\n",
        "file_name = ['2007.csv', '2008.csv']\n",
        "path_gdrive = '/content/drive/My Drive/Colab Notebooks/airlines/'\n",
        "\n",
        "os.makedirs(path_gdrive, exist_ok=True)\n",
        "\n",
        "for file in file_name:\n",
        "    get_gcs_data (bucket_name = bucket_name,\n",
        "                 folder_name = folder_name,\n",
        "                 file_name = file,\n",
        "                 path_gdrive = path_gdrive)\n",
        "    print('Downloaded: ' + file)"
      ]
    },
    {
      "cell_type": "code",
      "execution_count": null,
      "metadata": {
        "colab": {
          "base_uri": "https://localhost:8080/"
        },
        "id": "qzmYGTOkRpr8",
        "outputId": "9ee067a2-3785-4b03-9673-a32dbf1db9bf"
      },
      "outputs": [
        {
          "name": "stdout",
          "output_type": "stream",
          "text": [
            "Year,Month,DayofMonth,DayOfWeek,DepTime,CRSDepTime,ArrTime,CRSArrTime,UniqueCarrier,FlightNum,TailNum,ActualElapsedTime,CRSElapsedTime,AirTime,ArrDelay,DepDelay,Origin,Dest,Distance,TaxiIn,TaxiOut,Cancelled,CancellationCode,Diverted,CarrierDelay,WeatherDelay,NASDelay,SecurityDelay,LateAircraftDelay\n",
            "2007,1,1,1,1232,1225,1341,1340,WN,2891,N351,69,75,54,1,7,SMF,ONT,389,4,11,0,,0,0,0,0,0,0\n",
            "2007,1,1,1,1918,1905,2043,2035,WN,462,N370,85,90,74,8,13,SMF,PDX,479,5,6,0,,0,0,0,0,0,0\n",
            "2007,1,1,1,2206,2130,2334,2300,WN,1229,N685,88,90,73,34,36,SMF,PDX,479,6,9,0,,0,3,0,0,0,31\n",
            "2007,1,1,1,1230,1200,1356,1330,WN,1355,N364,86,90,75,26,30,SMF,PDX,479,3,8,0,,0,23,0,0,0,3\n",
            "2007,1,1,1,831,830,957,1000,WN,2278,N480,86,90,74,-3,1,SMF,PDX,479,3,9,0,,0,0,0,0,0,0\n",
            "2007,1,1,1,1430,1420,1553,1550,WN,2386,N611SW,83,90,74,3,10,SMF,PDX,479,2,7,0,,0,0,0,0,0,0\n",
            "2007,1,1,1,1936,1840,2217,2130,WN,409,N482,101,110,89,47,56,SMF,PHX,647,5,7,0,,0,46,0,0,0,1\n",
            "2007,1,1,1,944,935,1223,1225,WN,1131,N749SW,99,110,86,-2,9,SMF,PHX,647,4,9,0,,0,0,0,0,0,0\n",
            "2007,1,1,1,1537,1450,1819,1735,WN,1212,N451,102,105,90,44,47,SMF,PHX,647,5,7,0,,0,20,0,0,0,24\n",
            "Year,Month,DayofMonth,DayOfWeek,DepTime,CRSDepTime,ArrTime,CRSArrTime,UniqueCarrier,FlightNum,TailNum,ActualElapsedTime,CRSElapsedTime,AirTime,ArrDelay,DepDelay,Origin,Dest,Distance,TaxiIn,TaxiOut,Cancelled,CancellationCode,Diverted,CarrierDelay,WeatherDelay,NASDelay,SecurityDelay,LateAircraftDelay\n",
            "2008,1,3,4,2003,1955,2211,2225,WN,335,N712SW,128,150,116,-14,8,IAD,TPA,810,4,8,0,,0,NA,NA,NA,NA,NA\n",
            "2008,1,3,4,754,735,1002,1000,WN,3231,N772SW,128,145,113,2,19,IAD,TPA,810,5,10,0,,0,NA,NA,NA,NA,NA\n",
            "2008,1,3,4,628,620,804,750,WN,448,N428WN,96,90,76,14,8,IND,BWI,515,3,17,0,,0,NA,NA,NA,NA,NA\n",
            "2008,1,3,4,926,930,1054,1100,WN,1746,N612SW,88,90,78,-6,-4,IND,BWI,515,3,7,0,,0,NA,NA,NA,NA,NA\n",
            "2008,1,3,4,1829,1755,1959,1925,WN,3920,N464WN,90,90,77,34,34,IND,BWI,515,3,10,0,,0,2,0,0,0,32\n",
            "2008,1,3,4,1940,1915,2121,2110,WN,378,N726SW,101,115,87,11,25,IND,JAX,688,4,10,0,,0,NA,NA,NA,NA,NA\n",
            "2008,1,3,4,1937,1830,2037,1940,WN,509,N763SW,240,250,230,57,67,IND,LAS,1591,3,7,0,,0,10,0,0,0,47\n",
            "2008,1,3,4,1039,1040,1132,1150,WN,535,N428WN,233,250,219,-18,-1,IND,LAS,1591,7,7,0,,0,NA,NA,NA,NA,NA\n",
            "2008,1,3,4,617,615,652,650,WN,11,N689SW,95,95,70,2,2,IND,MCI,451,6,19,0,,0,NA,NA,NA,NA,NA\n"
          ]
        }
      ],
      "source": [
        "#1. Which locations (Origin and Dest pairs) had the worst delays for both arrivals (ArrDelay) and departures (DepDelay) - for each year\n",
        "\n",
        "!head '/content/drive/My Drive/Colab Notebooks/airlines/2007.csv'\n",
        "!head '/content/drive/My Drive/Colab Notebooks/airlines/2008.csv'"
      ]
    },
    {
      "cell_type": "code",
      "execution_count": null,
      "metadata": {
        "id": "ewQU8t_iZCkc"
      },
      "outputs": [],
      "source": [
        "#Read Insurance.csv into Spark Dataframe\n",
        "path = path_gdrive+'/2007.csv'\n",
        "\n",
        "twoseven_df = spark.read.csv(path, header='true', inferSchema='true', sep=',', quote='\"')\n",
        "\n",
        "\n",
        "columns_to_replace = [\"ArrDelay\", \"DepDelay\"]\n",
        "# Replace null values with 0 in specified columns\n",
        "for column in columns_to_replace:\n",
        "    twoseven_df = twoseven_df.withColumn(column, when(col(column).isNotNull(), col(column)).otherwise(0))\n"
      ]
    },
    {
      "cell_type": "code",
      "execution_count": null,
      "metadata": {
        "colab": {
          "base_uri": "https://localhost:8080/"
        },
        "id": "H3snmGE_s-TQ",
        "outputId": "4ab79041-5eba-49fd-b802-f8413829e8f8"
      },
      "outputs": [
        {
          "data": {
            "text/plain": [
              "7453215"
            ]
          },
          "execution_count": 131,
          "metadata": {},
          "output_type": "execute_result"
        }
      ],
      "source": [
        "row_count = twoseven_df.count()\n",
        "row_count"
      ]
    },
    {
      "cell_type": "code",
      "execution_count": null,
      "metadata": {
        "colab": {
          "base_uri": "https://localhost:8080/"
        },
        "id": "o-gce_-NZuGw",
        "outputId": "1a19830b-a633-4935-e00c-fde5e7587db5"
      },
      "outputs": [
        {
          "name": "stdout",
          "output_type": "stream",
          "text": [
            "+----+-----+----------+---------+-------+----------+-------+----------+-------------+---------+-------+-----------------+--------------+-------+--------+--------+------+----+--------+------+-------+---------+----------------+--------+------------+------------+--------+-------------+-----------------+\n",
            "|Year|Month|DayofMonth|DayOfWeek|DepTime|CRSDepTime|ArrTime|CRSArrTime|UniqueCarrier|FlightNum|TailNum|ActualElapsedTime|CRSElapsedTime|AirTime|ArrDelay|DepDelay|Origin|Dest|Distance|TaxiIn|TaxiOut|Cancelled|CancellationCode|Diverted|CarrierDelay|WeatherDelay|NASDelay|SecurityDelay|LateAircraftDelay|\n",
            "+----+-----+----------+---------+-------+----------+-------+----------+-------------+---------+-------+-----------------+--------------+-------+--------+--------+------+----+--------+------+-------+---------+----------------+--------+------------+------------+--------+-------------+-----------------+\n",
            "|2007|    1|         1|        1|   1232|      1225|   1341|      1340|           WN|     2891|   N351|               69|            75|     54|       1|       7|   SMF| ONT|     389|     4|     11|        0|            NULL|       0|           0|           0|       0|            0|                0|\n",
            "|2007|    1|         1|        1|   1918|      1905|   2043|      2035|           WN|      462|   N370|               85|            90|     74|       8|      13|   SMF| PDX|     479|     5|      6|        0|            NULL|       0|           0|           0|       0|            0|                0|\n",
            "|2007|    1|         1|        1|   2206|      2130|   2334|      2300|           WN|     1229|   N685|               88|            90|     73|      34|      36|   SMF| PDX|     479|     6|      9|        0|            NULL|       0|           3|           0|       0|            0|               31|\n",
            "|2007|    1|         1|        1|   1230|      1200|   1356|      1330|           WN|     1355|   N364|               86|            90|     75|      26|      30|   SMF| PDX|     479|     3|      8|        0|            NULL|       0|          23|           0|       0|            0|                3|\n",
            "|2007|    1|         1|        1|    831|       830|    957|      1000|           WN|     2278|   N480|               86|            90|     74|      -3|       1|   SMF| PDX|     479|     3|      9|        0|            NULL|       0|           0|           0|       0|            0|                0|\n",
            "|2007|    1|         1|        1|   1430|      1420|   1553|      1550|           WN|     2386| N611SW|               83|            90|     74|       3|      10|   SMF| PDX|     479|     2|      7|        0|            NULL|       0|           0|           0|       0|            0|                0|\n",
            "|2007|    1|         1|        1|   1936|      1840|   2217|      2130|           WN|      409|   N482|              101|           110|     89|      47|      56|   SMF| PHX|     647|     5|      7|        0|            NULL|       0|          46|           0|       0|            0|                1|\n",
            "|2007|    1|         1|        1|    944|       935|   1223|      1225|           WN|     1131| N749SW|               99|           110|     86|      -2|       9|   SMF| PHX|     647|     4|      9|        0|            NULL|       0|           0|           0|       0|            0|                0|\n",
            "|2007|    1|         1|        1|   1537|      1450|   1819|      1735|           WN|     1212|   N451|              102|           105|     90|      44|      47|   SMF| PHX|     647|     5|      7|        0|            NULL|       0|          20|           0|       0|            0|               24|\n",
            "|2007|    1|         1|        1|   1318|      1315|   1603|      1610|           WN|     2456| N630WN|              105|           115|     92|      -7|       3|   SMF| PHX|     647|     5|      8|        0|            NULL|       0|           0|           0|       0|            0|                0|\n",
            "+----+-----+----------+---------+-------+----------+-------+----------+-------------+---------+-------+-----------------+--------------+-------+--------+--------+------+----+--------+------+-------+---------+----------------+--------+------------+------------+--------+-------------+-----------------+\n",
            "only showing top 10 rows\n",
            "\n"
          ]
        }
      ],
      "source": [
        "twoseven_df.show(10)"
      ]
    },
    {
      "cell_type": "code",
      "execution_count": null,
      "metadata": {
        "id": "eiRuMS1BdDrp"
      },
      "outputs": [],
      "source": [
        "twoseven_df_agg = twoseven_df.groupby('Origin', 'Dest').\\\n",
        "agg(\n",
        "    sum('ArrDelay').alias('ArrDelay_sum'),\\\n",
        "    sum('DepDelay').alias('DepDelay_sum'))"
      ]
    },
    {
      "cell_type": "code",
      "execution_count": null,
      "metadata": {
        "colab": {
          "base_uri": "https://localhost:8080/"
        },
        "id": "n42oQWLwdDpH",
        "outputId": "edc81e15-757c-4bc3-cf6d-42f9250cdd10"
      },
      "outputs": [
        {
          "name": "stdout",
          "output_type": "stream",
          "text": [
            "+------+----+------------+------------+\n",
            "|Origin|Dest|ArrDelay_sum|DepDelay_sum|\n",
            "+------+----+------------+------------+\n",
            "|   SNA| PHX|     43812.0|     50765.0|\n",
            "|   LAS| LIT|       864.0|      2894.0|\n",
            "|   PHL| MCO|     98374.0|    123996.0|\n",
            "|   SMF| BUR|     19590.0|     32618.0|\n",
            "|   MCI| IAH|     16495.0|     15138.0|\n",
            "|   ROC| CLE|     21199.0|     16140.0|\n",
            "|   ATL| GSP|     20327.0|     26620.0|\n",
            "|   LAX| OXR|      4259.0|      3417.0|\n",
            "|   SPI| ORD|     27772.0|     27513.0|\n",
            "|   ORD| PDX|     57629.0|     58505.0|\n",
            "|   PBI| DCA|     11962.0|      8337.0|\n",
            "|   FSD| ATL|      1163.0|      5601.0|\n",
            "|   MLI| MCO|       747.0|       598.0|\n",
            "|   MSP| AVL|      1624.0|      2207.0|\n",
            "|   ADK| AKN|      1065.0|      1445.0|\n",
            "|   BQN| MCO|      2773.0|      5231.0|\n",
            "|   EWR| STT|      -212.0|       760.0|\n",
            "|   CLE| SJU|       103.0|       262.0|\n",
            "|   AVP| JFK|       542.0|       377.0|\n",
            "|   AUS| ELP|      6350.0|     12856.0|\n",
            "+------+----+------------+------------+\n",
            "only showing top 20 rows\n",
            "\n"
          ]
        }
      ],
      "source": [
        "columns_to_replace = [\"ArrDelay_sum\", \"DepDelay_sum\"]\n",
        "# Replace null values with 0 in specified columns\n",
        "for column in columns_to_replace:\n",
        "    twoseven_df_agg = twoseven_df_agg.withColumn(column, when(col(column).isNotNull(), col(column)).otherwise(0))\n",
        "\n",
        "twoseven_df_agg.show()"
      ]
    },
    {
      "cell_type": "code",
      "execution_count": null,
      "metadata": {
        "colab": {
          "base_uri": "https://localhost:8080/"
        },
        "id": "GyKxj2QaCA6H",
        "outputId": "d7492172-85d5-4f43-868d-3b48f2ff920f"
      },
      "outputs": [
        {
          "name": "stdout",
          "output_type": "stream",
          "text": [
            "+------+----+------------+------------+-----------+\n",
            "|Origin|Dest|ArrDelay_sum|DepDelay_sum|Total_Delay|\n",
            "+------+----+------------+------------+-----------+\n",
            "|   SNA| PHX|     43812.0|     50765.0|    94577.0|\n",
            "|   LAS| LIT|       864.0|      2894.0|     3758.0|\n",
            "|   PHL| MCO|     98374.0|    123996.0|   222370.0|\n",
            "|   SMF| BUR|     19590.0|     32618.0|    52208.0|\n",
            "|   MCI| IAH|     16495.0|     15138.0|    31633.0|\n",
            "|   ROC| CLE|     21199.0|     16140.0|    37339.0|\n",
            "|   ATL| GSP|     20327.0|     26620.0|    46947.0|\n",
            "|   LAX| OXR|      4259.0|      3417.0|     7676.0|\n",
            "|   SPI| ORD|     27772.0|     27513.0|    55285.0|\n",
            "|   ORD| PDX|     57629.0|     58505.0|   116134.0|\n",
            "|   PBI| DCA|     11962.0|      8337.0|    20299.0|\n",
            "|   FSD| ATL|      1163.0|      5601.0|     6764.0|\n",
            "|   MLI| MCO|       747.0|       598.0|     1345.0|\n",
            "|   MSP| AVL|      1624.0|      2207.0|     3831.0|\n",
            "|   ADK| AKN|      1065.0|      1445.0|     2510.0|\n",
            "|   BQN| MCO|      2773.0|      5231.0|     8004.0|\n",
            "|   EWR| STT|      -212.0|       760.0|      548.0|\n",
            "|   CLE| SJU|       103.0|       262.0|      365.0|\n",
            "|   AVP| JFK|       542.0|       377.0|      919.0|\n",
            "|   AUS| ELP|      6350.0|     12856.0|    19206.0|\n",
            "+------+----+------------+------------+-----------+\n",
            "only showing top 20 rows\n",
            "\n"
          ]
        }
      ],
      "source": [
        "twoseven_df_agg_final = twoseven_df_agg.\\\n",
        "withColumn(\"Total_Delay\", col(\"ArrDelay_sum\") + col(\"DepDelay_sum\"))\n",
        "twoseven_df_agg_final.show()"
      ]
    },
    {
      "cell_type": "code",
      "execution_count": null,
      "metadata": {
        "colab": {
          "base_uri": "https://localhost:8080/"
        },
        "id": "rbNXYL7OCA3o",
        "outputId": "00204264-09dd-44d3-d24d-79dabaf8506d"
      },
      "outputs": [
        {
          "name": "stdout",
          "output_type": "stream",
          "text": [
            "+------+----+------------+------------+-----------+\n",
            "|Origin|Dest|ArrDelay_sum|DepDelay_sum|Total_Delay|\n",
            "+------+----+------------+------------+-----------+\n",
            "|   ORD| LGA|    250887.0|    232295.0|   483182.0|\n",
            "+------+----+------------+------------+-----------+\n",
            "only showing top 1 row\n",
            "\n"
          ]
        }
      ],
      "source": [
        "#locations (Origin and Dest pairs) with worst delays for both arrivals (ArrDelay) and departures (DepDelay) in 2007\n",
        "\n",
        "twoseven_df_agg_final.orderBy('Total_Delay', ascending=False).show(1)"
      ]
    },
    {
      "cell_type": "code",
      "execution_count": null,
      "metadata": {
        "id": "QQgdX41ECA1l"
      },
      "outputs": [],
      "source": []
    },
    {
      "cell_type": "code",
      "execution_count": null,
      "metadata": {
        "id": "BWWMfmQtCAzW"
      },
      "outputs": [],
      "source": []
    },
    {
      "cell_type": "code",
      "execution_count": null,
      "metadata": {
        "id": "f-ra-6HSdDm2"
      },
      "outputs": [],
      "source": []
    },
    {
      "cell_type": "code",
      "execution_count": null,
      "metadata": {
        "id": "lj3lHg9xdDke"
      },
      "outputs": [],
      "source": []
    },
    {
      "cell_type": "code",
      "execution_count": null,
      "metadata": {
        "id": "pnpNiBzcdDiE"
      },
      "outputs": [],
      "source": []
    },
    {
      "cell_type": "code",
      "execution_count": null,
      "metadata": {
        "colab": {
          "base_uri": "https://localhost:8080/"
        },
        "id": "6LuoRa8Katv2",
        "outputId": "b73d7e22-26c7-4273-b80a-93f6bf9cb5c4"
      },
      "outputs": [
        {
          "name": "stdout",
          "output_type": "stream",
          "text": [
            "+----+-----+----------+---------+-------+----------+-------+----------+-------------+---------+-------+-----------------+--------------+-------+--------+--------+------+----+--------+------+-------+---------+----------------+--------+------------+------------+--------+-------------+-----------------+\n",
            "|Year|Month|DayofMonth|DayOfWeek|DepTime|CRSDepTime|ArrTime|CRSArrTime|UniqueCarrier|FlightNum|TailNum|ActualElapsedTime|CRSElapsedTime|AirTime|ArrDelay|DepDelay|Origin|Dest|Distance|TaxiIn|TaxiOut|Cancelled|CancellationCode|Diverted|CarrierDelay|WeatherDelay|NASDelay|SecurityDelay|LateAircraftDelay|\n",
            "+----+-----+----------+---------+-------+----------+-------+----------+-------------+---------+-------+-----------------+--------------+-------+--------+--------+------+----+--------+------+-------+---------+----------------+--------+------------+------------+--------+-------------+-----------------+\n",
            "|2008|    1|         3|        4|   2003|      1955|   2211|      2225|           WN|      335| N712SW|              128|           150|    116|     -14|       8|   IAD| TPA|     810|     4|      8|        0|            NULL|       0|          NA|          NA|      NA|           NA|               NA|\n",
            "|2008|    1|         3|        4|    754|       735|   1002|      1000|           WN|     3231| N772SW|              128|           145|    113|       2|      19|   IAD| TPA|     810|     5|     10|        0|            NULL|       0|          NA|          NA|      NA|           NA|               NA|\n",
            "|2008|    1|         3|        4|    628|       620|    804|       750|           WN|      448| N428WN|               96|            90|     76|      14|       8|   IND| BWI|     515|     3|     17|        0|            NULL|       0|          NA|          NA|      NA|           NA|               NA|\n",
            "|2008|    1|         3|        4|    926|       930|   1054|      1100|           WN|     1746| N612SW|               88|            90|     78|      -6|      -4|   IND| BWI|     515|     3|      7|        0|            NULL|       0|          NA|          NA|      NA|           NA|               NA|\n",
            "|2008|    1|         3|        4|   1829|      1755|   1959|      1925|           WN|     3920| N464WN|               90|            90|     77|      34|      34|   IND| BWI|     515|     3|     10|        0|            NULL|       0|           2|           0|       0|            0|               32|\n",
            "|2008|    1|         3|        4|   1940|      1915|   2121|      2110|           WN|      378| N726SW|              101|           115|     87|      11|      25|   IND| JAX|     688|     4|     10|        0|            NULL|       0|          NA|          NA|      NA|           NA|               NA|\n",
            "|2008|    1|         3|        4|   1937|      1830|   2037|      1940|           WN|      509| N763SW|              240|           250|    230|      57|      67|   IND| LAS|    1591|     3|      7|        0|            NULL|       0|          10|           0|       0|            0|               47|\n",
            "|2008|    1|         3|        4|   1039|      1040|   1132|      1150|           WN|      535| N428WN|              233|           250|    219|     -18|      -1|   IND| LAS|    1591|     7|      7|        0|            NULL|       0|          NA|          NA|      NA|           NA|               NA|\n",
            "|2008|    1|         3|        4|    617|       615|    652|       650|           WN|       11| N689SW|               95|            95|     70|       2|       2|   IND| MCI|     451|     6|     19|        0|            NULL|       0|          NA|          NA|      NA|           NA|               NA|\n",
            "|2008|    1|         3|        4|   1620|      1620|   1639|      1655|           WN|      810| N648SW|               79|            95|     70|     -16|       0|   IND| MCI|     451|     3|      6|        0|            NULL|       0|          NA|          NA|      NA|           NA|               NA|\n",
            "+----+-----+----------+---------+-------+----------+-------+----------+-------------+---------+-------+-----------------+--------------+-------+--------+--------+------+----+--------+------+-------+---------+----------------+--------+------------+------------+--------+-------------+-----------------+\n",
            "only showing top 10 rows\n",
            "\n"
          ]
        }
      ],
      "source": [
        "#Read Insurance.csv into Spark Dataframe\n",
        "path = path_gdrive+'/2008.csv'\n",
        "\n",
        "twoeight_df = spark.read.csv(path, header='true', inferSchema='true', sep=',', quote='\"')\n",
        "\n",
        "columns_to_replace = [\"ArrDelay\", \"DepDelay\"]\n",
        "\n",
        "# Replace null values with 0 in specified columns\n",
        "for column in columns_to_replace:\n",
        "    twoeight_df = twoeight_df.withColumn(column, when(col(column).isNotNull(), col(column)).otherwise(0))\n",
        "\n",
        "\n",
        "twoeight_df.show(10)"
      ]
    },
    {
      "cell_type": "code",
      "execution_count": null,
      "metadata": {
        "id": "A5YFrllSattc"
      },
      "outputs": [],
      "source": [
        "twoeight_df_agg = twoeight_df.groupby('Origin', 'Dest').\\\n",
        "agg(\n",
        "    sum('ArrDelay').alias('ArrDelay_sum'),\\\n",
        "    sum('DepDelay').alias('DepDelay_sum'))"
      ]
    },
    {
      "cell_type": "code",
      "execution_count": null,
      "metadata": {
        "colab": {
          "base_uri": "https://localhost:8080/"
        },
        "id": "lHXAwUZQatq1",
        "outputId": "1ae0b643-cda3-4958-993e-251f33ba07cf"
      },
      "outputs": [
        {
          "name": "stdout",
          "output_type": "stream",
          "text": [
            "+------+----+------------+------------+\n",
            "|Origin|Dest|ArrDelay_sum|DepDelay_sum|\n",
            "+------+----+------------+------------+\n",
            "|   LAS| LIT|      -597.0|      2846.0|\n",
            "|   PHL| MCO|     49237.0|     87162.0|\n",
            "|   SMF| BUR|      7525.0|     23382.0|\n",
            "|   SNA| PHX|     15245.0|     26525.0|\n",
            "|   MCI| IAH|     16058.0|     10323.0|\n",
            "|   BFL| SAN|      -149.0|       243.0|\n",
            "|   ROC| CLE|     15426.0|     15738.0|\n",
            "|   SPI| ORD|     21116.0|     21927.0|\n",
            "|   ATL| GSP|     20174.0|     23773.0|\n",
            "|   LAX| OXR|      -685.0|      2596.0|\n",
            "|   SFO| PMD|      5628.0|      6377.0|\n",
            "|   ORD| PDX|     40921.0|     48355.0|\n",
            "|   PBI| DCA|       -40.0|      3434.0|\n",
            "|   FSD| ATL|      2457.0|      1980.0|\n",
            "|   MLI| MCO|      2447.0|      2828.0|\n",
            "|   MSP| AVL|         8.0|      1563.0|\n",
            "|   BQN| MCO|      1246.0|      3200.0|\n",
            "|   EWR| STT|       148.0|      1439.0|\n",
            "|   CLE| SJU|        49.0|       110.0|\n",
            "|   SJC| ONT|      7298.0|     19722.0|\n",
            "+------+----+------------+------------+\n",
            "only showing top 20 rows\n",
            "\n"
          ]
        }
      ],
      "source": [
        "columns_to_replace = [\"ArrDelay_sum\", \"DepDelay_sum\"]\n",
        "\n",
        "# Replace null values with 0 in specified columns\n",
        "for column in columns_to_replace:\n",
        "    twoeight_df_agg = twoeight_df_agg.withColumn(column, when(col(column).isNotNull(), col(column)).otherwise(0))\n",
        "\n",
        "twoeight_df_agg.show()"
      ]
    },
    {
      "cell_type": "code",
      "execution_count": null,
      "metadata": {
        "colab": {
          "base_uri": "https://localhost:8080/"
        },
        "id": "dAi1xSUXbwbj",
        "outputId": "b5f509df-b20f-4b55-95bd-6abd4b4e8ef3"
      },
      "outputs": [
        {
          "name": "stdout",
          "output_type": "stream",
          "text": [
            "+------+----+------------+------------+-----------+\n",
            "|Origin|Dest|ArrDelay_sum|DepDelay_sum|Total_Delay|\n",
            "+------+----+------------+------------+-----------+\n",
            "|   LAS| LIT|      -597.0|      2846.0|     2249.0|\n",
            "|   PHL| MCO|     49237.0|     87162.0|   136399.0|\n",
            "|   SMF| BUR|      7525.0|     23382.0|    30907.0|\n",
            "|   SNA| PHX|     15245.0|     26525.0|    41770.0|\n",
            "|   MCI| IAH|     16058.0|     10323.0|    26381.0|\n",
            "|   BFL| SAN|      -149.0|       243.0|       94.0|\n",
            "|   ROC| CLE|     15426.0|     15738.0|    31164.0|\n",
            "|   SPI| ORD|     21116.0|     21927.0|    43043.0|\n",
            "|   ATL| GSP|     20174.0|     23773.0|    43947.0|\n",
            "|   LAX| OXR|      -685.0|      2596.0|     1911.0|\n",
            "|   SFO| PMD|      5628.0|      6377.0|    12005.0|\n",
            "|   ORD| PDX|     40921.0|     48355.0|    89276.0|\n",
            "|   PBI| DCA|       -40.0|      3434.0|     3394.0|\n",
            "|   FSD| ATL|      2457.0|      1980.0|     4437.0|\n",
            "|   MLI| MCO|      2447.0|      2828.0|     5275.0|\n",
            "|   MSP| AVL|         8.0|      1563.0|     1571.0|\n",
            "|   BQN| MCO|      1246.0|      3200.0|     4446.0|\n",
            "|   EWR| STT|       148.0|      1439.0|     1587.0|\n",
            "|   CLE| SJU|        49.0|       110.0|      159.0|\n",
            "|   SJC| ONT|      7298.0|     19722.0|    27020.0|\n",
            "+------+----+------------+------------+-----------+\n",
            "only showing top 20 rows\n",
            "\n"
          ]
        }
      ],
      "source": [
        "twoeight_df_agg_final = twoeight_df_agg.\\\n",
        "withColumn(\"Total_Delay\", col(\"ArrDelay_sum\") + col(\"DepDelay_sum\"))\n",
        "twoeight_df_agg_final.show()"
      ]
    },
    {
      "cell_type": "code",
      "execution_count": null,
      "metadata": {
        "colab": {
          "base_uri": "https://localhost:8080/"
        },
        "id": "1STsPM0vatkq",
        "outputId": "289cd248-0430-4704-e936-437d6995de67"
      },
      "outputs": [
        {
          "name": "stdout",
          "output_type": "stream",
          "text": [
            "+------+----+------------+------------+-----------+\n",
            "|Origin|Dest|ArrDelay_sum|DepDelay_sum|Total_Delay|\n",
            "+------+----+------------+------------+-----------+\n",
            "|   ORD| LGA|    209318.0|    226044.0|   435362.0|\n",
            "+------+----+------------+------------+-----------+\n",
            "only showing top 1 row\n",
            "\n"
          ]
        }
      ],
      "source": [
        "#locations (Origin and Dest pairs) with worst delays for both arrivals (ArrDelay) and departures (DepDelay) in 2008\n",
        "\n",
        "twoeight_df_agg_final.orderBy('Total_Delay', ascending=False).show(1)"
      ]
    },
    {
      "cell_type": "code",
      "execution_count": null,
      "metadata": {
        "id": "-ROJfoDpatY4"
      },
      "outputs": [],
      "source": []
    },
    {
      "cell_type": "code",
      "execution_count": null,
      "metadata": {
        "id": "Z1OBEegpCiEL"
      },
      "outputs": [],
      "source": []
    },
    {
      "cell_type": "code",
      "execution_count": null,
      "metadata": {
        "id": "Z8mdQSqlCh_O"
      },
      "outputs": [],
      "source": []
    },
    {
      "cell_type": "code",
      "execution_count": null,
      "metadata": {
        "id": "zfQ37cd6Ch2y"
      },
      "outputs": [],
      "source": []
    },
    {
      "cell_type": "code",
      "execution_count": null,
      "metadata": {
        "id": "pSpoXUdNChue"
      },
      "outputs": [],
      "source": []
    },
    {
      "cell_type": "code",
      "execution_count": null,
      "metadata": {
        "id": "mpy-qwNORyof"
      },
      "outputs": [],
      "source": [
        "#2. Which locations had fewest delays."
      ]
    },
    {
      "cell_type": "code",
      "execution_count": null,
      "metadata": {
        "colab": {
          "base_uri": "https://localhost:8080/"
        },
        "id": "-2EeF3YwCjar",
        "outputId": "20cba4c6-a108-4c16-91a5-6cf774eba4b9"
      },
      "outputs": [
        {
          "name": "stdout",
          "output_type": "stream",
          "text": [
            "+------+----+------------+------------+-----------+\n",
            "|Origin|Dest|ArrDelay_sum|DepDelay_sum|Total_Delay|\n",
            "+------+----+------------+------------+-----------+\n",
            "|   LIH| HNL|    -21010.0|    -28338.0|   -49348.0|\n",
            "+------+----+------------+------------+-----------+\n",
            "only showing top 1 row\n",
            "\n"
          ]
        }
      ],
      "source": [
        "#locations (Origin and Dest pairs) with fewest delays for both arrivals (ArrDelay) and departures (DepDelay) in 2007\n",
        "\n",
        "twoseven_df_agg_final.orderBy('Total_Delay', ascending=True).show(1)"
      ]
    },
    {
      "cell_type": "code",
      "execution_count": null,
      "metadata": {
        "colab": {
          "base_uri": "https://localhost:8080/"
        },
        "id": "_qDml6JJCjRx",
        "outputId": "62858e8b-e691-43aa-f665-13c59282da18"
      },
      "outputs": [
        {
          "name": "stdout",
          "output_type": "stream",
          "text": [
            "+------+----+------------+------------+-----------+\n",
            "|Origin|Dest|ArrDelay_sum|DepDelay_sum|Total_Delay|\n",
            "+------+----+------------+------------+-----------+\n",
            "|   PIH| SLC|    -10740.0|     -6802.0|   -17542.0|\n",
            "+------+----+------------+------------+-----------+\n",
            "only showing top 1 row\n",
            "\n"
          ]
        }
      ],
      "source": [
        "#locations (Origin and Dest pairs) with fewest delays for both arrivals (ArrDelay) and departures (DepDelay) in 2008\n",
        "\n",
        "twoeight_df_agg_final.orderBy('Total_Delay', ascending=True).show(1)"
      ]
    },
    {
      "cell_type": "code",
      "execution_count": null,
      "metadata": {
        "id": "2Dl7pfpCCjKf"
      },
      "outputs": [],
      "source": []
    },
    {
      "cell_type": "code",
      "execution_count": null,
      "metadata": {
        "id": "gmTbbglZCjFU"
      },
      "outputs": [],
      "source": []
    },
    {
      "cell_type": "code",
      "execution_count": null,
      "metadata": {
        "id": "a6LgB4xSRyVd"
      },
      "outputs": [],
      "source": [
        "#3. Do you see any significant seasonality effects for delays?"
      ]
    },
    {
      "cell_type": "code",
      "execution_count": null,
      "metadata": {
        "id": "YvpSmQakSSSk"
      },
      "outputs": [],
      "source": [
        "conditions = [\n",
        "    (twoseven_df[\"Month\"].isin([12, 1, 2]), \"Winter\"),\n",
        "    (twoseven_df[\"Month\"].between(3, 5), \"Spring\"),\n",
        "    (twoseven_df[\"Month\"].between(6, 8), \"Summer\"),\n",
        "    (twoseven_df[\"Month\"].between(9, 11), \"Fall\"),\n",
        "]\n",
        "\n",
        "twoseven_df_month_cond = twoseven_df.\\\n",
        "withColumn(\"Season\", when(conditions[0][0], conditions[0][1])\\\n",
        "                            .when(conditions[1][0], conditions[1][1])\\\n",
        "                            .when(conditions[2][0], conditions[2][1])\\\n",
        "                            .when(conditions[3][0], conditions[3][1])\\\n",
        "                            .otherwise(\"Unknown\"))"
      ]
    },
    {
      "cell_type": "code",
      "execution_count": null,
      "metadata": {
        "id": "WCzvg9l-H4tm"
      },
      "outputs": [],
      "source": [
        "twoseven_df_month_agg = twoseven_df_month_cond.groupby('Season').\\\n",
        "agg(\n",
        "    sum('ArrDelay').alias('ArrDelay_sum'),\\\n",
        "    sum('DepDelay').alias('DepDelay_sum'))\n",
        "\n"
      ]
    },
    {
      "cell_type": "code",
      "execution_count": null,
      "metadata": {
        "colab": {
          "base_uri": "https://localhost:8080/"
        },
        "id": "prDvflS1OzkV",
        "outputId": "f8297b0f-eedd-4384-d732-ea188b7481a4"
      },
      "outputs": [
        {
          "name": "stdout",
          "output_type": "stream",
          "text": [
            "+------+------------+------------+\n",
            "|Season|ArrDelay_sum|DepDelay_sum|\n",
            "+------+------------+------------+\n",
            "|Spring| 1.5779672E7| 1.8652243E7|\n",
            "|Winter| 2.2409221E7| 2.3407334E7|\n",
            "|Summer| 2.6827437E7| 2.7987916E7|\n",
            "|  Fall|   9134719.0| 1.3080372E7|\n",
            "+------+------------+------------+\n",
            "\n"
          ]
        }
      ],
      "source": [
        "twoseven_df_month_agg.show()"
      ]
    },
    {
      "cell_type": "code",
      "execution_count": null,
      "metadata": {
        "colab": {
          "base_uri": "https://localhost:8080/"
        },
        "id": "NxgNw1SjOzhQ",
        "outputId": "310d005e-f149-47f3-ae39-557e0a174786"
      },
      "outputs": [
        {
          "name": "stdout",
          "output_type": "stream",
          "text": [
            "+------+------------+------------+-----------+\n",
            "|Season|ArrDelay_sum|DepDelay_sum|Total_Delay|\n",
            "+------+------------+------------+-----------+\n",
            "|Spring| 1.5779672E7| 1.8652243E7|3.4431915E7|\n",
            "|Winter| 2.2409221E7| 2.3407334E7|4.5816555E7|\n",
            "|Summer| 2.6827437E7| 2.7987916E7|5.4815353E7|\n",
            "|  Fall|   9134719.0| 1.3080372E7|2.2215091E7|\n",
            "+------+------------+------------+-----------+\n",
            "\n"
          ]
        }
      ],
      "source": [
        "twoseven_df_month_agg_final = twoseven_df_month_agg.\\\n",
        "withColumn(\"Total_Delay\", col(\"ArrDelay_sum\") + col(\"DepDelay_sum\"))\n",
        "twoseven_df_month_agg_final.show()"
      ]
    },
    {
      "cell_type": "code",
      "execution_count": null,
      "metadata": {
        "colab": {
          "base_uri": "https://localhost:8080/"
        },
        "id": "jI9JfmslPJAI",
        "outputId": "54b068a9-a3b3-40e8-fbaa-b71e5bbf6a6a"
      },
      "outputs": [
        {
          "name": "stdout",
          "output_type": "stream",
          "text": [
            "+------+------------+------------+-----------+\n",
            "|Season|ArrDelay_sum|DepDelay_sum|Total_Delay|\n",
            "+------+------------+------------+-----------+\n",
            "|Summer| 2.6827437E7| 2.7987916E7|5.4815353E7|\n",
            "|Winter| 2.2409221E7| 2.3407334E7|4.5816555E7|\n",
            "|Spring| 1.5779672E7| 1.8652243E7|3.4431915E7|\n",
            "|  Fall|   9134719.0| 1.3080372E7|2.2215091E7|\n",
            "+------+------------+------------+-----------+\n",
            "\n"
          ]
        }
      ],
      "source": [
        "twoseven_df_month_agg_final.orderBy('Total_Delay', ascending=False).show()"
      ]
    },
    {
      "cell_type": "code",
      "execution_count": null,
      "metadata": {
        "id": "jChuCHAGSrOY"
      },
      "outputs": [],
      "source": [
        "#In terms of seasonality in 2007, we do see that it delays the most during the Summer, followed by Winter, then Spring, and Fall having the least amount of delay."
      ]
    },
    {
      "cell_type": "code",
      "execution_count": null,
      "metadata": {
        "id": "OFXFFtQnSrE9"
      },
      "outputs": [],
      "source": []
    },
    {
      "cell_type": "code",
      "execution_count": null,
      "metadata": {
        "id": "YN2AqcJZQF7x"
      },
      "outputs": [],
      "source": []
    },
    {
      "cell_type": "code",
      "execution_count": null,
      "metadata": {
        "id": "tkvvI0HnPI9e"
      },
      "outputs": [],
      "source": []
    },
    {
      "cell_type": "code",
      "execution_count": null,
      "metadata": {
        "id": "SRsZjFLAPI7H"
      },
      "outputs": [],
      "source": []
    },
    {
      "cell_type": "code",
      "execution_count": null,
      "metadata": {
        "id": "Y_NA0c-8SuVL"
      },
      "outputs": [],
      "source": [
        "conditions = [\n",
        "    (twoeight_df[\"Month\"].isin([12, 1, 2]), \"Winter\"),\n",
        "    (twoeight_df[\"Month\"].between(3, 5), \"Spring\"),\n",
        "    (twoeight_df[\"Month\"].between(6, 8), \"Summer\"),\n",
        "    (twoeight_df[\"Month\"].between(9, 11), \"Fall\"),\n",
        "]\n",
        "\n",
        "twoeight_df_month_cond = twoeight_df.\\\n",
        "withColumn(\"Season\", when(conditions[0][0], conditions[0][1])\\\n",
        "                            .when(conditions[1][0], conditions[1][1])\\\n",
        "                            .when(conditions[2][0], conditions[2][1])\\\n",
        "                            .when(conditions[3][0], conditions[3][1])\\\n",
        "                            .otherwise(\"Unknown\"))"
      ]
    },
    {
      "cell_type": "code",
      "execution_count": null,
      "metadata": {
        "id": "qxgEE4sBH4jF"
      },
      "outputs": [],
      "source": [
        "twoeight_df_month_agg = twoeight_df_month_cond.groupby('Season').\\\n",
        "agg(\n",
        "    sum('ArrDelay').alias('ArrDelay_sum'),\\\n",
        "    sum('DepDelay').alias('DepDelay_sum'))"
      ]
    },
    {
      "cell_type": "code",
      "execution_count": null,
      "metadata": {
        "colab": {
          "base_uri": "https://localhost:8080/"
        },
        "id": "gQBijRSvJmBX",
        "outputId": "a394e444-4d04-4beb-cf2b-8b354d5dac94"
      },
      "outputs": [
        {
          "name": "stdout",
          "output_type": "stream",
          "text": [
            "+------+------------+------------+\n",
            "|Season|ArrDelay_sum|DepDelay_sum|\n",
            "+------+------------+------------+\n",
            "|Spring| 1.4273217E7| 1.6900122E7|\n",
            "|Winter| 2.1887824E7| 2.3408405E7|\n",
            "|Summer| 1.8190403E7| 2.1216588E7|\n",
            "|  Fall|   1643534.0|   7021166.0|\n",
            "+------+------------+------------+\n",
            "\n"
          ]
        }
      ],
      "source": [
        "twoeight_df_month_agg.show()"
      ]
    },
    {
      "cell_type": "code",
      "execution_count": null,
      "metadata": {
        "colab": {
          "base_uri": "https://localhost:8080/"
        },
        "id": "7NCLTX07Jl4r",
        "outputId": "0d283639-07bf-48a0-d2c5-375a1c8bcc35"
      },
      "outputs": [
        {
          "name": "stdout",
          "output_type": "stream",
          "text": [
            "+------+------------+------------+-----------+\n",
            "|Season|ArrDelay_sum|DepDelay_sum|Total_Delay|\n",
            "+------+------------+------------+-----------+\n",
            "|Spring| 1.4273217E7| 1.6900122E7|3.1173339E7|\n",
            "|Winter| 2.1887824E7| 2.3408405E7|4.5296229E7|\n",
            "|Summer| 1.8190403E7| 2.1216588E7|3.9406991E7|\n",
            "|  Fall|   1643534.0|   7021166.0|  8664700.0|\n",
            "+------+------------+------------+-----------+\n",
            "\n"
          ]
        }
      ],
      "source": [
        "twoeight_df_month_agg_final = twoeight_df_month_agg.\\\n",
        "withColumn(\"Total_Delay\", col(\"ArrDelay_sum\") + col(\"DepDelay_sum\"))\n",
        "twoeight_df_month_agg_final.show()"
      ]
    },
    {
      "cell_type": "code",
      "execution_count": null,
      "metadata": {
        "colab": {
          "base_uri": "https://localhost:8080/"
        },
        "id": "_p2rjqquJlOr",
        "outputId": "97f7e751-65ec-4786-cf74-50ebd17871d5"
      },
      "outputs": [
        {
          "name": "stdout",
          "output_type": "stream",
          "text": [
            "+------+------------+------------+-----------+\n",
            "|Season|ArrDelay_sum|DepDelay_sum|Total_Delay|\n",
            "+------+------------+------------+-----------+\n",
            "|Winter| 2.1887824E7| 2.3408405E7|4.5296229E7|\n",
            "|Summer| 1.8190403E7| 2.1216588E7|3.9406991E7|\n",
            "|Spring| 1.4273217E7| 1.6900122E7|3.1173339E7|\n",
            "|  Fall|   1643534.0|   7021166.0|  8664700.0|\n",
            "+------+------------+------------+-----------+\n",
            "\n"
          ]
        }
      ],
      "source": [
        "twoeight_df_month_agg_final.orderBy('Total_Delay', ascending=False).show()"
      ]
    },
    {
      "cell_type": "code",
      "execution_count": null,
      "metadata": {
        "id": "d_JPi2ETJlKy"
      },
      "outputs": [],
      "source": [
        "#In terms of seasonality in 2008, we do see that it delays the most during the Winter, followed by Summer, then Spring, and Fall having the least amount of delay."
      ]
    },
    {
      "cell_type": "code",
      "execution_count": null,
      "metadata": {
        "id": "R4NTgdpiJlF0"
      },
      "outputs": [],
      "source": [
        "#So to conclude for the whether or not I see any significant seasonality effects for delays, I would say that you would expect to see more delays during Summer and Winter, and least delay in the Fall for any given year."
      ]
    },
    {
      "cell_type": "code",
      "execution_count": null,
      "metadata": {
        "id": "fBlLcFq9Jk-M"
      },
      "outputs": [],
      "source": []
    },
    {
      "cell_type": "code",
      "execution_count": null,
      "metadata": {
        "id": "6VFWpFO2TXYM"
      },
      "outputs": [],
      "source": []
    },
    {
      "cell_type": "code",
      "execution_count": null,
      "metadata": {
        "id": "fHqUpewBRySl"
      },
      "outputs": [],
      "source": [
        "#4. Do you see any increase or decrease in delays on weekends?"
      ]
    },
    {
      "cell_type": "code",
      "execution_count": null,
      "metadata": {
        "id": "m5q0FuR4Tq-8"
      },
      "outputs": [],
      "source": [
        "conditions = [\n",
        "    (twoseven_df[\"DayOfWeek\"].isin([6, 7]), \"Weekend\"),\n",
        "    (twoseven_df[\"DayOfWeek\"].isin(1,2,3,4,5), \"Weekday\"),\n",
        "]\n",
        "\n",
        "twoseven_df_dow_cond = twoseven_df.\\\n",
        "withColumn(\"DayType\", when(conditions[0][0], conditions[0][1])\\\n",
        "                            .when(conditions[1][0], conditions[1][1])\\\n",
        "                            .otherwise(\"Unknown\"))"
      ]
    },
    {
      "cell_type": "code",
      "execution_count": null,
      "metadata": {
        "id": "QjBhcf66UtJ0"
      },
      "outputs": [],
      "source": [
        "twoseven_df_dow_agg = twoseven_df_dow_cond.groupby('DayType').\\\n",
        "agg(\n",
        "    avg('ArrDelay').alias('ArrDelay_avg'),\\\n",
        "    avg('DepDelay').alias('DepDelay_avg'))\n",
        "\n"
      ]
    },
    {
      "cell_type": "code",
      "execution_count": null,
      "metadata": {
        "id": "TiroiHkUUtJ1",
        "colab": {
          "base_uri": "https://localhost:8080/"
        },
        "outputId": "8e74fe7b-f468-49ca-e679-fefc3e4312c0"
      },
      "outputs": [
        {
          "output_type": "stream",
          "name": "stdout",
          "text": [
            "+-------+-----------------+------------------+\n",
            "|DayType|     ArrDelay_avg|      DepDelay_avg|\n",
            "+-------+-----------------+------------------+\n",
            "|Weekday|10.91078862872423|11.700949797840268|\n",
            "|Weekend| 8.20582644427129|10.564578394992568|\n",
            "+-------+-----------------+------------------+\n",
            "\n"
          ]
        }
      ],
      "source": [
        "twoseven_df_dow_agg.show()"
      ]
    },
    {
      "cell_type": "code",
      "execution_count": null,
      "metadata": {
        "id": "_gF9sP5UUs03"
      },
      "outputs": [],
      "source": [
        "#In 2007, we see slightly less total delays on the Weekends!"
      ]
    },
    {
      "cell_type": "code",
      "execution_count": null,
      "metadata": {
        "id": "SdM61SHPUsyj"
      },
      "outputs": [],
      "source": []
    },
    {
      "cell_type": "code",
      "execution_count": null,
      "metadata": {
        "id": "rjCArJbXTq6N"
      },
      "outputs": [],
      "source": []
    },
    {
      "cell_type": "code",
      "execution_count": null,
      "metadata": {
        "id": "Vi4-sPdOVJfB"
      },
      "outputs": [],
      "source": [
        "conditions = [\n",
        "    (twoeight_df[\"DayOfWeek\"].isin([6, 7]), \"Weekend\"),\n",
        "    (twoeight_df[\"DayOfWeek\"].isin(1,2,3,4,5), \"Weekday\"),\n",
        "]\n",
        "\n",
        "twoeight_df_dow_cond = twoeight_df.\\\n",
        "withColumn(\"DayType\", when(conditions[0][0], conditions[0][1])\\\n",
        "                            .when(conditions[1][0], conditions[1][1])\\\n",
        "                            .otherwise(\"Unknown\"))"
      ]
    },
    {
      "cell_type": "code",
      "execution_count": null,
      "metadata": {
        "id": "uQQ-00_wVJfR"
      },
      "outputs": [],
      "source": [
        "twoeight_df_dow_agg = twoeight_df_dow_cond.groupby('DayType').\\\n",
        "agg(\n",
        "    avg('ArrDelay').alias('ArrDelay_avg'),\\\n",
        "    avg('DepDelay').alias('DepDelay_avg'))\n",
        "\n"
      ]
    },
    {
      "cell_type": "code",
      "execution_count": null,
      "metadata": {
        "id": "lU8WsiYsVJfS",
        "colab": {
          "base_uri": "https://localhost:8080/"
        },
        "outputId": "c1f524f7-ace4-479a-9ea0-53a5ff7be2d5"
      },
      "outputs": [
        {
          "metadata": {
            "tags": null
          },
          "name": "stdout",
          "output_type": "stream",
          "text": [
            "+-------+-----------------+------------------+\n",
            "|DayType|     ArrDelay_avg|      DepDelay_avg|\n",
            "+-------+-----------------+------------------+\n",
            "|Weekday|8.313381471589537| 9.891560220129755|\n",
            "|Weekend|7.760762380478254|10.200386795916625|\n",
            "+-------+-----------------+------------------+\n",
            "\n"
          ]
        }
      ],
      "source": [
        "twoeight_df_dow_agg.show()"
      ]
    },
    {
      "cell_type": "code",
      "execution_count": null,
      "metadata": {
        "id": "abGJdW9iVKCi"
      },
      "outputs": [],
      "source": [
        "#In 2008, we see very slightly less total delays on the Weekends!"
      ]
    },
    {
      "cell_type": "code",
      "execution_count": null,
      "metadata": {
        "id": "9jysrrytVKAF"
      },
      "outputs": [],
      "source": [
        "# In conclusion, to answer if I see any increase or decrease in delays on weekends, the answer is we will see slightly less total delays on the weekends on average in any given year."
      ]
    },
    {
      "cell_type": "code",
      "execution_count": null,
      "metadata": {
        "id": "yBH5PV55VJ9n"
      },
      "outputs": [],
      "source": []
    },
    {
      "cell_type": "code",
      "execution_count": null,
      "metadata": {
        "id": "VJe5rp0STqym"
      },
      "outputs": [],
      "source": []
    },
    {
      "cell_type": "code",
      "execution_count": null,
      "metadata": {
        "id": "OVSUwfSWRyPy"
      },
      "outputs": [],
      "source": [
        "#5. Are flights equally distributed throughout the day?\n",
        "#   Plot the distribution of DepTime, ArrTime (actual departure and arrival time)"
      ]
    },
    {
      "cell_type": "code",
      "execution_count": null,
      "metadata": {
        "id": "XF-6bwUZV4eC"
      },
      "outputs": [],
      "source": [
        "import matplotlib.pyplot as plt\n",
        "from pyspark.sql import SparkSession"
      ]
    },
    {
      "cell_type": "code",
      "execution_count": null,
      "metadata": {
        "colab": {
          "base_uri": "https://localhost:8080/"
        },
        "id": "jDmeAi-d5ln6",
        "outputId": "d3c93f96-9a90-47ee-9026-8c7f3e8b8125"
      },
      "outputs": [
        {
          "name": "stdout",
          "output_type": "stream",
          "text": [
            "+-------+-------+\n",
            "|DepTime|ArrTime|\n",
            "+-------+-------+\n",
            "|   1232|   1341|\n",
            "|   1918|   2043|\n",
            "|   2206|   2334|\n",
            "|   1230|   1356|\n",
            "|    831|    957|\n",
            "|   1430|   1553|\n",
            "|   1936|   2217|\n",
            "|    944|   1223|\n",
            "|   1537|   1819|\n",
            "|   1318|   1603|\n",
            "|    836|   1119|\n",
            "|   2047|   2332|\n",
            "|   2128|   2245|\n",
            "|    935|   1048|\n",
            "|   1251|   1405|\n",
            "|   1729|   1843|\n",
            "|    825|    941|\n",
            "|   1042|   1158|\n",
            "|   1726|   1839|\n",
            "|   1849|   2016|\n",
            "+-------+-------+\n",
            "only showing top 20 rows\n",
            "\n"
          ]
        }
      ],
      "source": [
        "twoseven_df_times = twoseven_df.select(\"DepTime\", \"ArrTime\")\n",
        "twoseven_df_times.show()"
      ]
    },
    {
      "cell_type": "code",
      "execution_count": null,
      "metadata": {
        "colab": {
          "base_uri": "https://localhost:8080/"
        },
        "id": "56YsCfrWfu0f",
        "outputId": "0a99584f-b4ac-40b1-e319-78d3ebca82de"
      },
      "outputs": [
        {
          "name": "stdout",
          "output_type": "stream",
          "text": [
            "+-------+-----------------+\n",
            "|DepTime|DepTime_Frequency|\n",
            "+-------+-----------------+\n",
            "|    829|             8719|\n",
            "|   1159|             7608|\n",
            "|   1512|             6928|\n",
            "|   1436|             6515|\n",
            "|   2136|             3798|\n",
            "|    944|             6626|\n",
            "|    800|            11720|\n",
            "|    853|             8527|\n",
            "|   2110|             6943|\n",
            "|    125|              123|\n",
            "|    451|              133|\n",
            "|   1746|             6745|\n",
            "|   1241|             6862|\n",
            "|   1808|             6504|\n",
            "|    919|             7059|\n",
            "|    926|             7827|\n",
            "|   1953|             6157|\n",
            "|   2034|             4499|\n",
            "|   1903|             6678|\n",
            "|   1528|             7664|\n",
            "+-------+-----------------+\n",
            "only showing top 20 rows\n",
            "\n"
          ]
        }
      ],
      "source": [
        "twoseven_df_deptime = twoseven_df_times.groupby('DepTime').\\\n",
        "agg(\n",
        "    count('DepTime').alias('DepTime_Frequency'))\n",
        "twoseven_df_deptime.show()"
      ]
    },
    {
      "cell_type": "code",
      "execution_count": null,
      "metadata": {
        "colab": {
          "base_uri": "https://localhost:8080/"
        },
        "id": "jfvmPUH1jb3J",
        "outputId": "036a92de-7076-4ef8-c636-9f8e149b6488"
      },
      "outputs": [
        {
          "data": {
            "text/plain": [
              "1440"
            ]
          },
          "execution_count": 173,
          "metadata": {},
          "output_type": "execute_result"
        }
      ],
      "source": [
        "twoseven_df_deptime.count()"
      ]
    },
    {
      "cell_type": "code",
      "execution_count": null,
      "metadata": {
        "id": "DvuaEf_Vf4um"
      },
      "outputs": [],
      "source": []
    },
    {
      "cell_type": "code",
      "execution_count": null,
      "metadata": {
        "id": "5HazlKv1V4bd"
      },
      "outputs": [],
      "source": [
        "p_twoseven_deptime_df = twoseven_df_deptime.limit(2_000).toPandas()"
      ]
    },
    {
      "cell_type": "code",
      "execution_count": null,
      "metadata": {
        "colab": {
          "base_uri": "https://localhost:8080/",
          "height": 510
        },
        "id": "2ESnd-h0V4ZG",
        "outputId": "304b3647-70c0-4c9c-b227-53a185428e7f"
      },
      "outputs": [
        {
          "data": {
            "text/plain": [
              "Text(0.5, 1.0, 'Bar Chart of DepTime vs. Frequencies')"
            ]
          },
          "execution_count": 175,
          "metadata": {},
          "output_type": "execute_result"
        },
        {
          "data": {
            "image/png": "[encoded data removed]",
            "text/plain": [
              "<Figure size 640x480 with 1 Axes>"
            ]
          },
          "metadata": {},
          "output_type": "display_data"
        }
      ],
      "source": [
        "# Create a bar chart\n",
        "p_twoseven_deptime_df.plot(x='DepTime', y='DepTime_Frequency', kind='bar')\n",
        "\n",
        "# Set labels and title\n",
        "plt.xlabel(\"DepTime\")\n",
        "plt.ylabel(\"Frequency\")\n",
        "plt.title(\"Bar Chart of DepTime vs. Frequencies\")"
      ]
    },
    {
      "cell_type": "code",
      "execution_count": null,
      "metadata": {
        "colab": {
          "base_uri": "https://localhost:8080/"
        },
        "id": "Amr7i2wkj-3u",
        "outputId": "5332e159-b307-4aa9-e460-730c92208a57"
      },
      "outputs": [
        {
          "name": "stdout",
          "output_type": "stream",
          "text": [
            "+-------+-----------------+\n",
            "|DepTime|DepTime_Frequency|\n",
            "+-------+-----------------+\n",
            "|     NA|           160748|\n",
            "|    600|            20066|\n",
            "|    700|            18749|\n",
            "|    655|            15848|\n",
            "|    555|            15564|\n",
            "|    630|            13554|\n",
            "|    557|            13327|\n",
            "|    558|            13180|\n",
            "|    556|            13014|\n",
            "|    625|            12672|\n",
            "|    855|            12640|\n",
            "|    900|            12634|\n",
            "|    657|            12492|\n",
            "|    656|            12346|\n",
            "|    755|            12158|\n",
            "|    658|            12119|\n",
            "|   1100|            11985|\n",
            "|   1000|            11822|\n",
            "|    659|            11793|\n",
            "|    800|            11720|\n",
            "+-------+-----------------+\n",
            "only showing top 20 rows\n",
            "\n"
          ]
        }
      ],
      "source": [
        "twoseven_df_deptime.orderBy('DepTime_Frequency', ascending=False).show()"
      ]
    },
    {
      "cell_type": "code",
      "execution_count": null,
      "metadata": {
        "colab": {
          "base_uri": "https://localhost:8080/"
        },
        "id": "QQHsYy6alTEn",
        "outputId": "925d3e0f-5343-40b5-aec1-b24e9651c682"
      },
      "outputs": [
        {
          "name": "stdout",
          "output_type": "stream",
          "text": [
            "+-------+-----------------+\n",
            "|DepTime|DepTime_Frequency|\n",
            "+-------+-----------------+\n",
            "|    343|                1|\n",
            "|    347|                2|\n",
            "|    436|                2|\n",
            "|    424|                3|\n",
            "|    422|                3|\n",
            "|    333|                3|\n",
            "|    434|                3|\n",
            "|    338|                4|\n",
            "|    348|                4|\n",
            "|    335|                4|\n",
            "|    429|                5|\n",
            "|    337|                5|\n",
            "|    435|                5|\n",
            "|    432|                5|\n",
            "|    423|                5|\n",
            "|    336|                5|\n",
            "|    346|                5|\n",
            "|    421|                5|\n",
            "|    417|                5|\n",
            "|    327|                6|\n",
            "+-------+-----------------+\n",
            "only showing top 20 rows\n",
            "\n"
          ]
        }
      ],
      "source": [
        "twoseven_df_deptime.orderBy('DepTime_Frequency', ascending=True).show()"
      ]
    },
    {
      "cell_type": "code",
      "execution_count": null,
      "metadata": {
        "id": "lf8UkxzhlTCN"
      },
      "outputs": [],
      "source": []
    },
    {
      "cell_type": "code",
      "execution_count": null,
      "metadata": {
        "id": "ugeS4ymMlS_X"
      },
      "outputs": [],
      "source": []
    },
    {
      "cell_type": "code",
      "execution_count": null,
      "metadata": {
        "colab": {
          "base_uri": "https://localhost:8080/"
        },
        "id": "YBosO9UGxF8g",
        "outputId": "1200eb49-252b-44d8-add1-047613d98afd"
      },
      "outputs": [
        {
          "name": "stdout",
          "output_type": "stream",
          "text": [
            "+-------+-------+\n",
            "|DepTime|ArrTime|\n",
            "+-------+-------+\n",
            "|   2003|   2211|\n",
            "|    754|   1002|\n",
            "|    628|    804|\n",
            "|    926|   1054|\n",
            "|   1829|   1959|\n",
            "|   1940|   2121|\n",
            "|   1937|   2037|\n",
            "|   1039|   1132|\n",
            "|    617|    652|\n",
            "|   1620|   1639|\n",
            "|    706|    916|\n",
            "|   1644|   1845|\n",
            "|   1426|   1426|\n",
            "|    715|    720|\n",
            "|   1702|   1651|\n",
            "|   1029|   1021|\n",
            "|   1452|   1640|\n",
            "|    754|    940|\n",
            "|   1323|   1526|\n",
            "|   1416|   1512|\n",
            "+-------+-------+\n",
            "only showing top 20 rows\n",
            "\n"
          ]
        }
      ],
      "source": [
        "twoeight_df_times = twoeight_df.select(\"DepTime\", \"ArrTime\")\n",
        "twoeight_df_times.show()"
      ]
    },
    {
      "cell_type": "code",
      "execution_count": null,
      "metadata": {
        "colab": {
          "base_uri": "https://localhost:8080/"
        },
        "id": "rkm1a5vPxF8x",
        "outputId": "e9f32f9b-89ef-43e9-ddba-d8f49b6af223"
      },
      "outputs": [
        {
          "name": "stdout",
          "output_type": "stream",
          "text": [
            "+-------+-----------------+\n",
            "|DepTime|DepTime_Frequency|\n",
            "+-------+-----------------+\n",
            "|   1512|             6652|\n",
            "|   1159|             7269|\n",
            "|    829|             8561|\n",
            "|   2136|             3972|\n",
            "|   1436|             6894|\n",
            "|    944|             6381|\n",
            "|    853|             7794|\n",
            "|   2110|             5924|\n",
            "|    800|            10125|\n",
            "|    125|              110|\n",
            "|    451|              132|\n",
            "|    926|             7202|\n",
            "|    919|             6347|\n",
            "|   1808|             5921|\n",
            "|   1241|             6266|\n",
            "|   1746|             6343|\n",
            "|   1528|             7356|\n",
            "|   1903|             6438|\n",
            "|   1953|             6047|\n",
            "|   2034|             4046|\n",
            "+-------+-----------------+\n",
            "only showing top 20 rows\n",
            "\n"
          ]
        }
      ],
      "source": [
        "twoeight_df_deptime = twoeight_df_times.groupby('DepTime').\\\n",
        "agg(\n",
        "    count('DepTime').alias('DepTime_Frequency'))\n",
        "twoeight_df_deptime.show()"
      ]
    },
    {
      "cell_type": "code",
      "execution_count": null,
      "metadata": {
        "colab": {
          "base_uri": "https://localhost:8080/"
        },
        "id": "btHWaPO0xF8x",
        "outputId": "faf66ca8-c67d-4e87-b08c-e7d7d81c7f0a"
      },
      "outputs": [
        {
          "data": {
            "text/plain": [
              "1441"
            ]
          },
          "execution_count": 180,
          "metadata": {},
          "output_type": "execute_result"
        }
      ],
      "source": [
        "twoeight_df_deptime.count()"
      ]
    },
    {
      "cell_type": "code",
      "execution_count": null,
      "metadata": {
        "id": "FiRlSbSTxF8y"
      },
      "outputs": [],
      "source": []
    },
    {
      "cell_type": "code",
      "execution_count": null,
      "metadata": {
        "id": "14h5B8jxxF8y"
      },
      "outputs": [],
      "source": [
        "p_twoeight_deptime_df = twoeight_df_deptime.limit(2_000).toPandas()"
      ]
    },
    {
      "cell_type": "code",
      "execution_count": null,
      "metadata": {
        "colab": {
          "base_uri": "https://localhost:8080/",
          "height": 510
        },
        "id": "dUwsKVyzxF8y",
        "outputId": "dd66b1f1-1628-49a6-d56b-45f7d353a97c"
      },
      "outputs": [
        {
          "data": {
            "text/plain": [
              "Text(0.5, 1.0, 'Bar Chart of DepTime vs. Frequencies')"
            ]
          },
          "execution_count": 182,
          "metadata": {},
          "output_type": "execute_result"
        },
        {
          "data": {
            "image/png": "[encoded data removed]",
            "text/plain": [
              "<Figure size 640x480 with 1 Axes>"
            ]
          },
          "metadata": {},
          "output_type": "display_data"
        }
      ],
      "source": [
        "# Create a bar chart\n",
        "p_twoeight_deptime_df.plot(x='DepTime', y='DepTime_Frequency', kind='bar')\n",
        "\n",
        "# Set labels and title\n",
        "plt.xlabel(\"DepTime\")\n",
        "plt.ylabel(\"Frequency\")\n",
        "plt.title(\"Bar Chart of DepTime vs. Frequencies\")"
      ]
    },
    {
      "cell_type": "code",
      "execution_count": null,
      "metadata": {
        "colab": {
          "base_uri": "https://localhost:8080/"
        },
        "id": "8Neqa8FSxF8z",
        "outputId": "108e57cd-0aa2-4fda-982d-ec02f5cdc267"
      },
      "outputs": [
        {
          "name": "stdout",
          "output_type": "stream",
          "text": [
            "+-------+-----------------+\n",
            "|DepTime|DepTime_Frequency|\n",
            "+-------+-----------------+\n",
            "|     NA|           136246|\n",
            "|    555|            17227|\n",
            "|    600|            16436|\n",
            "|    700|            15169|\n",
            "|    655|            15123|\n",
            "|    557|            14686|\n",
            "|    556|            14563|\n",
            "|    558|            14071|\n",
            "|    559|            12566|\n",
            "|    658|            11849|\n",
            "|    657|            11849|\n",
            "|    656|            11834|\n",
            "|    755|            11419|\n",
            "|    825|            11305|\n",
            "|    659|            11222|\n",
            "|    630|            11190|\n",
            "|    900|            11183|\n",
            "|    855|            11066|\n",
            "|   1700|            11006|\n",
            "|   1655|            10736|\n",
            "+-------+-----------------+\n",
            "only showing top 20 rows\n",
            "\n"
          ]
        }
      ],
      "source": [
        "twoeight_df_deptime.orderBy('DepTime_Frequency', ascending=False).show()"
      ]
    },
    {
      "cell_type": "code",
      "execution_count": null,
      "metadata": {
        "colab": {
          "base_uri": "https://localhost:8080/"
        },
        "id": "ILXyTIAPxF8z",
        "outputId": "fa956bcb-2428-47ba-dfb6-f08af3aeaec1"
      },
      "outputs": [
        {
          "name": "stdout",
          "output_type": "stream",
          "text": [
            "+-------+-----------------+\n",
            "|DepTime|DepTime_Frequency|\n",
            "+-------+-----------------+\n",
            "|    347|                3|\n",
            "|    346|                3|\n",
            "|    417|                3|\n",
            "|    338|                4|\n",
            "|    342|                4|\n",
            "|    344|                4|\n",
            "|    429|                5|\n",
            "|    336|                5|\n",
            "|    420|                5|\n",
            "|    302|                5|\n",
            "|    421|                6|\n",
            "|    341|                6|\n",
            "|    353|                6|\n",
            "|    312|                6|\n",
            "|    422|                7|\n",
            "|    425|                7|\n",
            "|    349|                7|\n",
            "|    348|                7|\n",
            "|    416|                7|\n",
            "|    357|                7|\n",
            "+-------+-----------------+\n",
            "only showing top 20 rows\n",
            "\n"
          ]
        }
      ],
      "source": [
        "twoeight_df_deptime.orderBy('DepTime_Frequency', ascending=True).show()"
      ]
    },
    {
      "cell_type": "code",
      "execution_count": null,
      "metadata": {
        "id": "Cj405OYYlS9I"
      },
      "outputs": [],
      "source": []
    },
    {
      "cell_type": "code",
      "execution_count": null,
      "metadata": {
        "id": "hyIocZeYlS7e"
      },
      "outputs": [],
      "source": []
    },
    {
      "cell_type": "code",
      "execution_count": null,
      "metadata": {
        "colab": {
          "base_uri": "https://localhost:8080/"
        },
        "id": "9hVVVr2Uj-2E",
        "outputId": "968f4118-3ec4-45b7-a1d7-54ec62a7fbbb"
      },
      "outputs": [
        {
          "name": "stdout",
          "output_type": "stream",
          "text": [
            "+-------+-----------------+\n",
            "|ArrTime|ArrTime_Frequency|\n",
            "+-------+-----------------+\n",
            "|   1436|             7305|\n",
            "|   2136|             6511|\n",
            "|   1159|             6965|\n",
            "|    829|             5809|\n",
            "|   1512|             6861|\n",
            "|   2110|             7478|\n",
            "|    853|             6163|\n",
            "|    800|             6461|\n",
            "|    944|             6696|\n",
            "|    125|              734|\n",
            "|    451|              295|\n",
            "|   1746|             7438|\n",
            "|   1808|             7789|\n",
            "|    926|             7000|\n",
            "|    919|             6682|\n",
            "|   1241|             7560|\n",
            "|   1903|             7079|\n",
            "|   1528|             7191|\n",
            "|   2034|             7576|\n",
            "|   1953|             7434|\n",
            "+-------+-----------------+\n",
            "only showing top 20 rows\n",
            "\n"
          ]
        }
      ],
      "source": [
        "twoseven_df_Arrime = twoseven_df_times.groupby('ArrTime').\\\n",
        "agg(\n",
        "    count('ArrTime').alias('ArrTime_Frequency'))\n",
        "twoseven_df_Arrime.show()"
      ]
    },
    {
      "cell_type": "code",
      "execution_count": null,
      "metadata": {
        "colab": {
          "base_uri": "https://localhost:8080/"
        },
        "id": "8_YfFrbjj-nv",
        "outputId": "1d2bab70-5e38-47f7-856f-7cdc854104d8"
      },
      "outputs": [
        {
          "data": {
            "text/plain": [
              "1441"
            ]
          },
          "execution_count": 186,
          "metadata": {},
          "output_type": "execute_result"
        }
      ],
      "source": [
        "twoseven_df_Arrime.count()"
      ]
    },
    {
      "cell_type": "code",
      "execution_count": null,
      "metadata": {
        "id": "h2t5sihXmOLY"
      },
      "outputs": [],
      "source": [
        "p_twoseven_arrtime_df = twoseven_df_Arrime.limit(2_000).toPandas()"
      ]
    },
    {
      "cell_type": "code",
      "execution_count": null,
      "metadata": {
        "colab": {
          "base_uri": "https://localhost:8080/",
          "height": 510
        },
        "id": "9RBYfWkvmOI4",
        "outputId": "84ea5baf-9005-40fc-f09a-c5c419f238ae"
      },
      "outputs": [
        {
          "data": {
            "text/plain": [
              "Text(0.5, 1.0, 'Bar Chart of ArrTime vs. Frequencies')"
            ]
          },
          "execution_count": 188,
          "metadata": {},
          "output_type": "execute_result"
        },
        {
          "data": {
            "image/png": "[encoded data removed]",
            "text/plain": [
              "<Figure size 640x480 with 1 Axes>"
            ]
          },
          "metadata": {},
          "output_type": "display_data"
        }
      ],
      "source": [
        "# Create a bar chart\n",
        "p_twoseven_arrtime_df.plot(x='ArrTime', y='ArrTime_Frequency', kind='bar')\n",
        "\n",
        "# Set labels and title\n",
        "plt.xlabel(\"ArrTime\")\n",
        "plt.ylabel(\"Frequency\")\n",
        "plt.title(\"Bar Chart of ArrTime vs. Frequencies\")"
      ]
    },
    {
      "cell_type": "code",
      "execution_count": null,
      "metadata": {
        "colab": {
          "base_uri": "https://localhost:8080/"
        },
        "id": "8pHKRA6rmOGP",
        "outputId": "59a2df60-2476-4453-f3b0-37807f9c541c"
      },
      "outputs": [
        {
          "name": "stdout",
          "output_type": "stream",
          "text": [
            "+-------+-----------------+\n",
            "|ArrTime|ArrTime_Frequency|\n",
            "+-------+-----------------+\n",
            "|     NA|           177927|\n",
            "|   1230|             9145|\n",
            "|   1630|             9105|\n",
            "|   1620|             9072|\n",
            "|   1030|             8959|\n",
            "|   1625|             8953|\n",
            "|   1020|             8947|\n",
            "|   1025|             8936|\n",
            "|   1225|             8892|\n",
            "|   1015|             8862|\n",
            "|   1610|             8838|\n",
            "|   1830|             8827|\n",
            "|   1800|             8817|\n",
            "|   1615|             8804|\n",
            "|   1400|             8758|\n",
            "|   1820|             8757|\n",
            "|   2030|             8731|\n",
            "|   1235|             8701|\n",
            "|   1810|             8698|\n",
            "|   1815|             8693|\n",
            "+-------+-----------------+\n",
            "only showing top 20 rows\n",
            "\n"
          ]
        }
      ],
      "source": [
        "twoseven_df_Arrime.orderBy('ArrTime_Frequency', ascending=False).show()"
      ]
    },
    {
      "cell_type": "code",
      "execution_count": null,
      "metadata": {
        "colab": {
          "base_uri": "https://localhost:8080/"
        },
        "id": "JacobWANmODm",
        "outputId": "354d74bc-f9ea-43e6-d3a7-c8bc5b62aecd"
      },
      "outputs": [
        {
          "name": "stdout",
          "output_type": "stream",
          "text": [
            "+-------+-----------------+\n",
            "|ArrTime|ArrTime_Frequency|\n",
            "+-------+-----------------+\n",
            "|    409|               36|\n",
            "|    357|               39|\n",
            "|    404|               43|\n",
            "|    356|               48|\n",
            "|    358|               49|\n",
            "|    413|               50|\n",
            "|    402|               50|\n",
            "|    408|               52|\n",
            "|    359|               52|\n",
            "|    331|               53|\n",
            "|    348|               54|\n",
            "|    349|               54|\n",
            "|    354|               54|\n",
            "|    334|               55|\n",
            "|    416|               55|\n",
            "|    406|               56|\n",
            "|    342|               56|\n",
            "|    400|               56|\n",
            "|    333|               56|\n",
            "|    346|               57|\n",
            "+-------+-----------------+\n",
            "only showing top 20 rows\n",
            "\n"
          ]
        }
      ],
      "source": [
        "twoseven_df_Arrime.orderBy('ArrTime_Frequency', ascending=True).show()"
      ]
    },
    {
      "cell_type": "code",
      "execution_count": null,
      "metadata": {
        "id": "TcWhIzdGmOAx"
      },
      "outputs": [],
      "source": []
    },
    {
      "cell_type": "code",
      "execution_count": null,
      "metadata": {
        "id": "UEKKRjaMx0yZ"
      },
      "outputs": [],
      "source": []
    },
    {
      "cell_type": "code",
      "execution_count": null,
      "metadata": {
        "colab": {
          "base_uri": "https://localhost:8080/"
        },
        "id": "0kQkRw-Qx1FL",
        "outputId": "7d9376d8-ae5f-403c-9886-b7bc6d1fdc58"
      },
      "outputs": [
        {
          "name": "stdout",
          "output_type": "stream",
          "text": [
            "+-------+-----------------+\n",
            "|ArrTime|ArrTime_Frequency|\n",
            "+-------+-----------------+\n",
            "|   1512|             6568|\n",
            "|   2136|             6178|\n",
            "|    829|             5254|\n",
            "|   1436|             6824|\n",
            "|   1159|             6932|\n",
            "|   2110|             6869|\n",
            "|    800|             5859|\n",
            "|    853|             5880|\n",
            "|    944|             6101|\n",
            "|    125|              529|\n",
            "|    451|              278|\n",
            "|    926|             6738|\n",
            "|   1241|             7129|\n",
            "|    919|             6471|\n",
            "|   1808|             7449|\n",
            "|   1746|             7285|\n",
            "|   2034|             6928|\n",
            "|   1528|             6919|\n",
            "|      7|             2195|\n",
            "|   1953|             6888|\n",
            "+-------+-----------------+\n",
            "only showing top 20 rows\n",
            "\n"
          ]
        }
      ],
      "source": [
        "twoeight_df_Arrime = twoeight_df_times.groupby('ArrTime').\\\n",
        "agg(\n",
        "    count('ArrTime').alias('ArrTime_Frequency'))\n",
        "twoeight_df_Arrime.show()"
      ]
    },
    {
      "cell_type": "code",
      "execution_count": null,
      "metadata": {
        "colab": {
          "base_uri": "https://localhost:8080/"
        },
        "id": "RqMtA2Srx1FM",
        "outputId": "e38ae51b-6598-414f-c9cd-d95885e94d5b"
      },
      "outputs": [
        {
          "data": {
            "text/plain": [
              "1441"
            ]
          },
          "execution_count": 192,
          "metadata": {},
          "output_type": "execute_result"
        }
      ],
      "source": [
        "twoeight_df_Arrime.count()"
      ]
    },
    {
      "cell_type": "code",
      "execution_count": null,
      "metadata": {
        "id": "wJ-VXrIpx1FM"
      },
      "outputs": [],
      "source": [
        "p_twoeight_arrtime_df = twoeight_df_Arrime.limit(2_000).toPandas()"
      ]
    },
    {
      "cell_type": "code",
      "execution_count": null,
      "metadata": {
        "colab": {
          "base_uri": "https://localhost:8080/",
          "height": 510
        },
        "id": "zkcgd4J3x1FM",
        "outputId": "07b618b3-5b73-423b-ff7d-35d5eaefaf1e"
      },
      "outputs": [
        {
          "data": {
            "text/plain": [
              "Text(0.5, 1.0, 'Bar Chart of ArrTime vs. Frequencies')"
            ]
          },
          "execution_count": 194,
          "metadata": {},
          "output_type": "execute_result"
        },
        {
          "data": {
            "image/png": "[encoded data removed]",
            "text/plain": [
              "<Figure size 640x480 with 1 Axes>"
            ]
          },
          "metadata": {},
          "output_type": "display_data"
        }
      ],
      "source": [
        "# Create a bar chart\n",
        "p_twoeight_arrtime_df.plot(x='ArrTime', y='ArrTime_Frequency', kind='bar')\n",
        "\n",
        "# Set labels and title\n",
        "plt.xlabel(\"ArrTime\")\n",
        "plt.ylabel(\"Frequency\")\n",
        "plt.title(\"Bar Chart of ArrTime vs. Frequencies\")"
      ]
    },
    {
      "cell_type": "code",
      "execution_count": null,
      "metadata": {
        "colab": {
          "base_uri": "https://localhost:8080/"
        },
        "id": "hCMaU3FNx1FN",
        "outputId": "76905429-e025-4aca-a546-7ab1b620d8e4"
      },
      "outputs": [
        {
          "name": "stdout",
          "output_type": "stream",
          "text": [
            "+-------+-----------------+\n",
            "|ArrTime|ArrTime_Frequency|\n",
            "+-------+-----------------+\n",
            "|     NA|           151649|\n",
            "|   1020|             8435|\n",
            "|   1400|             8365|\n",
            "|   1015|             8289|\n",
            "|   1410|             8286|\n",
            "|   1610|             8254|\n",
            "|   1405|             8228|\n",
            "|   1010|             8206|\n",
            "|   1025|             8184|\n",
            "|   1210|             8177|\n",
            "|   1800|             8173|\n",
            "|   1810|             8172|\n",
            "|   1620|             8165|\n",
            "|   1215|             8160|\n",
            "|   1625|             8147|\n",
            "|   1615|             8121|\n",
            "|   1220|             8111|\n",
            "|   1600|             8108|\n",
            "|   1630|             8104|\n",
            "|   1540|             8066|\n",
            "+-------+-----------------+\n",
            "only showing top 20 rows\n",
            "\n"
          ]
        }
      ],
      "source": [
        "twoeight_df_Arrime.orderBy('ArrTime_Frequency', ascending=False).show()"
      ]
    },
    {
      "cell_type": "code",
      "execution_count": null,
      "metadata": {
        "colab": {
          "base_uri": "https://localhost:8080/"
        },
        "id": "SDlhTVwgx1FN",
        "outputId": "8ad0abb6-765b-4795-d7a7-8d27376560bd"
      },
      "outputs": [
        {
          "name": "stdout",
          "output_type": "stream",
          "text": [
            "+-------+-----------------+\n",
            "|ArrTime|ArrTime_Frequency|\n",
            "+-------+-----------------+\n",
            "|    416|               31|\n",
            "|    411|               31|\n",
            "|    414|               33|\n",
            "|    356|               34|\n",
            "|    352|               34|\n",
            "|    401|               34|\n",
            "|    359|               35|\n",
            "|    358|               35|\n",
            "|    346|               36|\n",
            "|    405|               36|\n",
            "|    343|               38|\n",
            "|    408|               38|\n",
            "|    354|               38|\n",
            "|    347|               38|\n",
            "|    407|               38|\n",
            "|    334|               39|\n",
            "|    419|               39|\n",
            "|    341|               39|\n",
            "|    402|               39|\n",
            "|    345|               40|\n",
            "+-------+-----------------+\n",
            "only showing top 20 rows\n",
            "\n"
          ]
        }
      ],
      "source": [
        "twoeight_df_Arrime.orderBy('ArrTime_Frequency', ascending=True).show()"
      ]
    },
    {
      "cell_type": "code",
      "execution_count": null,
      "metadata": {
        "id": "nBSoPsarx0og"
      },
      "outputs": [],
      "source": []
    },
    {
      "cell_type": "code",
      "execution_count": null,
      "metadata": {
        "id": "59Wwypu8V4T-"
      },
      "outputs": [],
      "source": [
        "#As seen from the above bar and table graphs, we can conclude that the flights are not perfectly equally distributed throughout the day for both years 2007 and 2008.\n",
        "#Every flight time has different frequencies:\n",
        "# In 2007: most frequent DepTime is 6:00 and least frequent DepTime is 3:43.\n",
        "#          most frequent ArrTime is 12:30 and least frequent ArrTime is 4:09.\n",
        "# In 2008: most frequent DepTime is 5:55 and least frequent DepTime is tied at 3:47, 3:46, and 4:17.\n",
        "#          most frequent ArrTime is 10:20 and least frequent ArrTime is tied at 4:16 and 4:11.\n",
        "\n"
      ]
    },
    {
      "cell_type": "code",
      "execution_count": null,
      "metadata": {
        "id": "jsfY_ZBsYVJ4"
      },
      "outputs": [],
      "source": []
    },
    {
      "cell_type": "code",
      "execution_count": null,
      "metadata": {
        "id": "xFyEELB3YVDi"
      },
      "outputs": [],
      "source": []
    },
    {
      "cell_type": "code",
      "execution_count": null,
      "metadata": {
        "id": "9GeJbBHJYU9m"
      },
      "outputs": [],
      "source": []
    },
    {
      "cell_type": "code",
      "execution_count": null,
      "metadata": {
        "colab": {
          "base_uri": "https://localhost:8080/"
        },
        "id": "SZdvwxeERyAF",
        "outputId": "7a661199-6252-407f-d684-e6d44cefb759"
      },
      "outputs": [
        {
          "output_type": "stream",
          "name": "stdout",
          "text": [
            "+-------+----------+--------+-------+----------+--------+\n",
            "|DepTime|CRSDepTime|DepDelay|ArrTime|CRSArrTime|ArrDelay|\n",
            "+-------+----------+--------+-------+----------+--------+\n",
            "|   1232|      1225|       7|   1341|      1340|       1|\n",
            "|   1918|      1905|      13|   2043|      2035|       8|\n",
            "|   2206|      2130|      36|   2334|      2300|      34|\n",
            "|   1230|      1200|      30|   1356|      1330|      26|\n",
            "|    831|       830|       1|    957|      1000|      -3|\n",
            "|   1430|      1420|      10|   1553|      1550|       3|\n",
            "|   1936|      1840|      56|   2217|      2130|      47|\n",
            "|    944|       935|       9|   1223|      1225|      -2|\n",
            "|   1537|      1450|      47|   1819|      1735|      44|\n",
            "|   1318|      1315|       3|   1603|      1610|      -7|\n",
            "|    836|       835|       1|   1119|      1130|     -11|\n",
            "|   2047|      1955|      52|   2332|      2240|      52|\n",
            "|   2128|      2035|      53|   2245|      2200|      45|\n",
            "|    935|       940|      -5|   1048|      1105|     -17|\n",
            "|   1251|      1245|       6|   1405|      1410|      -5|\n",
            "|   1729|      1645|      44|   1843|      1810|      33|\n",
            "|    825|       825|       0|    941|       950|      -9|\n",
            "|   1042|      1040|       2|   1158|      1205|      -7|\n",
            "|   1726|      1725|       1|   1839|      1850|     -11|\n",
            "|   1849|      1820|      29|   2016|      1940|      36|\n",
            "+-------+----------+--------+-------+----------+--------+\n",
            "only showing top 20 rows\n",
            "\n"
          ]
        }
      ],
      "source": [
        "#6. Do you see the worst delays at any certain times of the day?\n",
        "#   Compare DepTime, ArrTime with CRSDepTime, CRSArrTime (scheduled arrival and departure time; CRS is the Computer Reservation System)\n",
        "twoseven_df_times_del = twoseven_df.select(\"DepTime\", \"CRSDepTime\", \"DepDelay\", \"ArrTime\", \"CRSArrTime\", \"ArrDelay\" )\n",
        "twoseven_df_times_del.show()"
      ]
    },
    {
      "cell_type": "code",
      "execution_count": null,
      "metadata": {
        "colab": {
          "base_uri": "https://localhost:8080/"
        },
        "id": "4_vYfUufpijD",
        "outputId": "a3f1802b-1e55-4439-e1b7-aa27847666d2"
      },
      "outputs": [
        {
          "output_type": "stream",
          "name": "stdout",
          "text": [
            "+----------+------------------+\n",
            "|CRSDepTime|       DepDelayAvg|\n",
            "+----------+------------------+\n",
            "|      1645|16.518500317974215|\n",
            "|      1959|18.323384831460675|\n",
            "|      1342|13.344600938967137|\n",
            "|      1829|16.070300560366785|\n",
            "|      1238|  9.66597510373444|\n",
            "|      2142|10.137724550898204|\n",
            "|      2122|10.401004304160688|\n",
            "|       833|  4.52280701754386|\n",
            "|      1025| 6.669610007358352|\n",
            "|       540|3.9672824393501003|\n",
            "|      1507|12.695116168800379|\n",
            "|      1522|12.744431418522861|\n",
            "|       858| 4.918918918918919|\n",
            "|      1127| 8.503566333808845|\n",
            "|      1721|17.871699669966997|\n",
            "|      2235|10.782401902497027|\n",
            "|       737| 7.084860173577628|\n",
            "|       623|  3.58974358974359|\n",
            "|      1650| 17.89566218073714|\n",
            "|      1322|15.145687645687646|\n",
            "+----------+------------------+\n",
            "only showing top 20 rows\n",
            "\n"
          ]
        }
      ],
      "source": [
        "twoseven_df_dep_times_del = twoseven_df_times_del.groupby('CRSDepTime').\\\n",
        "agg(\n",
        "    avg('DepDelay').alias('DepDelayAvg'))\n",
        "twoseven_df_dep_times_del.show()"
      ]
    },
    {
      "cell_type": "code",
      "execution_count": null,
      "metadata": {
        "colab": {
          "base_uri": "https://localhost:8080/"
        },
        "id": "FkccSXbBpigb",
        "outputId": "3bcbdd96-6618-47c1-a082-8c7a42ef7269"
      },
      "outputs": [
        {
          "output_type": "stream",
          "name": "stdout",
          "text": [
            "+----------+------------------+\n",
            "|CRSDepTime|       DepDelayAvg|\n",
            "+----------+------------------+\n",
            "|        57|             243.0|\n",
            "|       420|             107.0|\n",
            "|        58|55.857142857142854|\n",
            "|        52|48.333333333333336|\n",
            "|       105| 33.63636363636363|\n",
            "|      2216|33.166666666666664|\n",
            "|       305|31.774193548387096|\n",
            "|      2321|29.636363636363637|\n",
            "|      2007|28.628895184135978|\n",
            "|       210|              28.5|\n",
            "|      2332| 28.05263157894737|\n",
            "|      2208|             27.68|\n",
            "|         1|27.333333333333332|\n",
            "|       146|26.178571428571427|\n",
            "|      2211| 25.84864864864865|\n",
            "|       410|25.708333333333332|\n",
            "|      2006|25.625250501002004|\n",
            "|      1956|25.556435643564356|\n",
            "|      2003|24.746745562130176|\n",
            "|      1827| 24.51422963689892|\n",
            "+----------+------------------+\n",
            "only showing top 20 rows\n",
            "\n"
          ]
        }
      ],
      "source": [
        "twoseven_df_dep_times_del.orderBy('DepDelayAvg', ascending=False).show()"
      ]
    },
    {
      "cell_type": "code",
      "execution_count": null,
      "metadata": {
        "id": "o7UDivH5pids",
        "colab": {
          "base_uri": "https://localhost:8080/"
        },
        "outputId": "57abca12-19e8-421c-f03f-bff392984261"
      },
      "outputs": [
        {
          "output_type": "stream",
          "name": "stdout",
          "text": [
            "+----------+-------------------+\n",
            "|CRSDepTime|        DepDelayAvg|\n",
            "+----------+-------------------+\n",
            "|         0|               NULL|\n",
            "|       315|              -16.4|\n",
            "|       548|              -10.0|\n",
            "|       534| -7.478260869565218|\n",
            "|        29|               -7.0|\n",
            "|         2|               -7.0|\n",
            "|        54|               -7.0|\n",
            "|       255|               -5.0|\n",
            "|       539|-4.1063829787234045|\n",
            "|      2301|               -4.0|\n",
            "|       455|               -4.0|\n",
            "|       159|               -3.5|\n",
            "|       541|  -3.36734693877551|\n",
            "|       546|-3.2475247524752477|\n",
            "|       518| -3.165289256198347|\n",
            "|       523|-2.4477611940298507|\n",
            "|       512| -2.390909090909091|\n",
            "|       553|-2.1184210526315788|\n",
            "|       547|-1.9508196721311475|\n",
            "|       450|-1.8487394957983194|\n",
            "+----------+-------------------+\n",
            "only showing top 20 rows\n",
            "\n"
          ]
        }
      ],
      "source": [
        "twoseven_df_dep_times_del.orderBy('DepDelayAvg', ascending=True).show()"
      ]
    },
    {
      "cell_type": "code",
      "execution_count": null,
      "metadata": {
        "colab": {
          "base_uri": "https://localhost:8080/"
        },
        "id": "mY2kgHpSpibL",
        "outputId": "7466bd19-dbc9-4e7f-b17f-e6a08f30e7a5"
      },
      "outputs": [
        {
          "output_type": "execute_result",
          "data": {
            "text/plain": [
              "1188"
            ]
          },
          "metadata": {},
          "execution_count": 234
        }
      ],
      "source": [
        "twoseven_df_dep_times_del.count()"
      ]
    },
    {
      "cell_type": "code",
      "execution_count": null,
      "metadata": {
        "id": "Nor3898JpiZK"
      },
      "outputs": [],
      "source": [
        "p_twoseven_df_dep_times_del = twoseven_df_dep_times_del.limit(2_000).toPandas()"
      ]
    },
    {
      "cell_type": "code",
      "execution_count": null,
      "metadata": {
        "id": "nO5gaZClpiXG",
        "colab": {
          "base_uri": "https://localhost:8080/",
          "height": 510
        },
        "outputId": "34c2800b-79e0-4f3a-d4e9-14a89ecfcf9c"
      },
      "outputs": [
        {
          "output_type": "execute_result",
          "data": {
            "text/plain": [
              "Text(0.5, 1.0, 'Bar Chart of DepDelayAvg by CRSDepTime')"
            ]
          },
          "metadata": {},
          "execution_count": 236
        },
        {
          "output_type": "display_data",
          "data": {
            "text/plain": [
              "<Figure size 640x480 with 1 Axes>"
            ],
            "image/png": "[encoded data removed]"
          },
          "metadata": {}
        }
      ],
      "source": [
        "# Create a bar chart\n",
        "p_twoseven_df_dep_times_del.plot(x='CRSDepTime', y='DepDelayAvg', kind='bar')\n",
        "\n",
        "# Set labels and title\n",
        "plt.xlabel(\"CRSDepTime\")\n",
        "plt.ylabel(\"DepDelayAvg\")\n",
        "plt.title(\"Bar Chart of DepDelayAvg by CRSDepTime\")"
      ]
    },
    {
      "cell_type": "code",
      "execution_count": null,
      "metadata": {
        "id": "QeoFqBKIun8D"
      },
      "outputs": [],
      "source": []
    },
    {
      "cell_type": "code",
      "execution_count": null,
      "metadata": {
        "id": "pCt8cme4sQ-E"
      },
      "outputs": [],
      "source": []
    },
    {
      "cell_type": "code",
      "execution_count": null,
      "metadata": {
        "id": "P0-KJTFHzbT_",
        "colab": {
          "base_uri": "https://localhost:8080/"
        },
        "outputId": "bfd351a5-9813-4cfa-93b3-e16160e36b01"
      },
      "outputs": [
        {
          "output_type": "stream",
          "name": "stdout",
          "text": [
            "+-------+----------+--------+-------+----------+--------+\n",
            "|DepTime|CRSDepTime|DepDelay|ArrTime|CRSArrTime|ArrDelay|\n",
            "+-------+----------+--------+-------+----------+--------+\n",
            "|   2003|      1955|       8|   2211|      2225|     -14|\n",
            "|    754|       735|      19|   1002|      1000|       2|\n",
            "|    628|       620|       8|    804|       750|      14|\n",
            "|    926|       930|      -4|   1054|      1100|      -6|\n",
            "|   1829|      1755|      34|   1959|      1925|      34|\n",
            "|   1940|      1915|      25|   2121|      2110|      11|\n",
            "|   1937|      1830|      67|   2037|      1940|      57|\n",
            "|   1039|      1040|      -1|   1132|      1150|     -18|\n",
            "|    617|       615|       2|    652|       650|       2|\n",
            "|   1620|      1620|       0|   1639|      1655|     -16|\n",
            "|    706|       700|       6|    916|       915|       1|\n",
            "|   1644|      1510|      94|   1845|      1725|      80|\n",
            "|   1426|      1430|      -4|   1426|      1425|       1|\n",
            "|    715|       715|       0|    720|       710|      10|\n",
            "|   1702|      1700|       2|   1651|      1655|      -4|\n",
            "|   1029|      1020|       9|   1021|      1010|      11|\n",
            "|   1452|      1425|      27|   1640|      1625|      15|\n",
            "|    754|       745|       9|    940|       955|     -15|\n",
            "|   1323|      1255|      28|   1526|      1510|      16|\n",
            "|   1416|      1325|      51|   1512|      1435|      37|\n",
            "+-------+----------+--------+-------+----------+--------+\n",
            "only showing top 20 rows\n",
            "\n"
          ]
        }
      ],
      "source": [
        "twoeight_df_times_del = twoeight_df.select(\"DepTime\", \"CRSDepTime\", \"DepDelay\", \"ArrTime\", \"CRSArrTime\", \"ArrDelay\" )\n",
        "twoeight_df_times_del.show()"
      ]
    },
    {
      "cell_type": "code",
      "execution_count": null,
      "metadata": {
        "colab": {
          "base_uri": "https://localhost:8080/"
        },
        "id": "A0rgq6EszbUA",
        "outputId": "8fb7f541-fcf8-4d6f-8d32-5e042868cee1"
      },
      "outputs": [
        {
          "output_type": "stream",
          "name": "stdout",
          "text": [
            "+----------+------------------+\n",
            "|CRSDepTime|       DepDelayAvg|\n",
            "+----------+------------------+\n",
            "|      1645|15.458133530062707|\n",
            "|      1959|15.945091945091946|\n",
            "|      1829|13.551972846839202|\n",
            "|      1238|10.190964136003727|\n",
            "|      1342|12.814651368049427|\n",
            "|      2122|11.505263157894737|\n",
            "|      2142|12.377358490566039|\n",
            "|       833| 3.932912391475927|\n",
            "|       148|             169.5|\n",
            "|      1025| 6.408775891605669|\n",
            "|      2235|  9.41090146750524|\n",
            "|      1522|12.953582694907617|\n",
            "|       623| 2.480628272251309|\n",
            "|       540|2.5446475195822456|\n",
            "|       858| 4.618814573137575|\n",
            "|      1127|  8.68014484007242|\n",
            "|      1721|19.248728094968907|\n",
            "|      1507|10.290614578370652|\n",
            "|       737|3.1987261146496815|\n",
            "|      1650|16.169166757910872|\n",
            "+----------+------------------+\n",
            "only showing top 20 rows\n",
            "\n"
          ]
        }
      ],
      "source": [
        "twoeight_df_dep_times_del = twoeight_df_times_del.groupby('CRSDepTime').\\\n",
        "agg(\n",
        "    avg('DepDelay').alias('DepDelayAvg'))\n",
        "twoeight_df_dep_times_del.show()"
      ]
    },
    {
      "cell_type": "code",
      "execution_count": null,
      "metadata": {
        "id": "_9iu7IsEzbUA",
        "colab": {
          "base_uri": "https://localhost:8080/"
        },
        "outputId": "0b180bbc-2c13-4f21-fdc0-4de80497e19a"
      },
      "outputs": [
        {
          "output_type": "stream",
          "name": "stdout",
          "text": [
            "+----------+------------------+\n",
            "|CRSDepTime|       DepDelayAvg|\n",
            "+----------+------------------+\n",
            "|       310|             976.0|\n",
            "|       148|             169.5|\n",
            "|       227|              83.0|\n",
            "|      2326|              69.8|\n",
            "|      2336| 68.14285714285714|\n",
            "|       120|           61.3125|\n",
            "|       231|              59.0|\n",
            "|       352|              58.0|\n",
            "|      2321|              47.6|\n",
            "|       250|              45.0|\n",
            "|       151|              44.0|\n",
            "|        14|              39.0|\n",
            "|      2357| 37.41463414634146|\n",
            "|      2331| 35.30434782608695|\n",
            "|        17|33.166666666666664|\n",
            "|       140|              33.0|\n",
            "|      2334|31.962962962962962|\n",
            "|      2324|28.661290322580644|\n",
            "|      2203|27.858695652173914|\n",
            "|      2156|26.258845437616387|\n",
            "+----------+------------------+\n",
            "only showing top 20 rows\n",
            "\n"
          ]
        }
      ],
      "source": [
        "twoeight_df_dep_times_del.orderBy('DepDelayAvg', ascending=False).show()"
      ]
    },
    {
      "cell_type": "code",
      "execution_count": null,
      "metadata": {
        "id": "QIrxOwsMzbUB",
        "colab": {
          "base_uri": "https://localhost:8080/"
        },
        "outputId": "0a4a446e-ac11-460b-fe8b-20776da5a4f3"
      },
      "outputs": [
        {
          "output_type": "stream",
          "name": "stdout",
          "text": [
            "+----------+-------------------+\n",
            "|CRSDepTime|        DepDelayAvg|\n",
            "+----------+-------------------+\n",
            "|       149|               NULL|\n",
            "|       350|               NULL|\n",
            "|       516|               -8.0|\n",
            "|       514| -7.688888888888889|\n",
            "|       355|               -7.0|\n",
            "|       504|             -6.375|\n",
            "|       220|               -6.0|\n",
            "|       135| -5.481481481481482|\n",
            "|       517| -4.918918918918919|\n",
            "|       518| -4.885714285714286|\n",
            "|       547| -4.728155339805825|\n",
            "|       522| -4.671052631578948|\n",
            "|       512| -3.983050847457627|\n",
            "|       225| -3.789473684210526|\n",
            "|       539|-3.6835443037974684|\n",
            "|       526|-3.5185185185185186|\n",
            "|       521|-3.3680555555555554|\n",
            "|      2253|  -3.10455764075067|\n",
            "|       548|               -3.0|\n",
            "|        53|               -3.0|\n",
            "+----------+-------------------+\n",
            "only showing top 20 rows\n",
            "\n"
          ]
        }
      ],
      "source": [
        "twoeight_df_dep_times_del.orderBy('DepDelayAvg', ascending=True).show()"
      ]
    },
    {
      "cell_type": "code",
      "execution_count": null,
      "metadata": {
        "id": "sUfi6gqNzbUB",
        "colab": {
          "base_uri": "https://localhost:8080/"
        },
        "outputId": "aa5e38bf-42eb-4f5b-9b66-a8655bac9710"
      },
      "outputs": [
        {
          "output_type": "execute_result",
          "data": {
            "text/plain": [
              "1217"
            ]
          },
          "metadata": {},
          "execution_count": 241
        }
      ],
      "source": [
        "twoeight_df_dep_times_del.count()"
      ]
    },
    {
      "cell_type": "code",
      "execution_count": null,
      "metadata": {
        "id": "QVXIAV9XzbUB"
      },
      "outputs": [],
      "source": [
        "p_twoeight_df_dep_times_del = twoeight_df_dep_times_del.limit(2_000).toPandas()"
      ]
    },
    {
      "cell_type": "code",
      "execution_count": null,
      "metadata": {
        "colab": {
          "base_uri": "https://localhost:8080/",
          "height": 510
        },
        "id": "1uNqxKMNzbUC",
        "outputId": "c07348bf-1cec-44cd-eb01-fb6b0144b399"
      },
      "outputs": [
        {
          "output_type": "execute_result",
          "data": {
            "text/plain": [
              "Text(0.5, 1.0, 'Bar Chart of DepDelayAvg by CRSDepTime')"
            ]
          },
          "metadata": {},
          "execution_count": 243
        },
        {
          "output_type": "display_data",
          "data": {
            "text/plain": [
              "<Figure size 640x480 with 1 Axes>"
            ],
            "image/png": "[encoded data removed]"
          },
          "metadata": {}
        }
      ],
      "source": [
        "# Create a bar chart\n",
        "p_twoeight_df_dep_times_del.plot(x='CRSDepTime', y='DepDelayAvg', kind='bar')\n",
        "\n",
        "# Set labels and title\n",
        "plt.xlabel(\"CRSDepTime\")\n",
        "plt.ylabel(\"DepDelayAvg\")\n",
        "plt.title(\"Bar Chart of DepDelayAvg by CRSDepTime\")"
      ]
    },
    {
      "cell_type": "code",
      "execution_count": null,
      "metadata": {
        "id": "7FiHxbkIzbCw"
      },
      "outputs": [],
      "source": []
    },
    {
      "cell_type": "code",
      "execution_count": null,
      "metadata": {
        "colab": {
          "base_uri": "https://localhost:8080/"
        },
        "id": "m9qqJhjRuKd-",
        "outputId": "76d25835-2402-41de-e55d-509e684779f5"
      },
      "outputs": [
        {
          "output_type": "stream",
          "name": "stdout",
          "text": [
            "+----------+-------------------+\n",
            "|CRSArrTime|        ArrDelayAvg|\n",
            "+----------+-------------------+\n",
            "|      1645| 13.585128017938155|\n",
            "|      2142|  16.50584307178631|\n",
            "|      1342|   8.63849765258216|\n",
            "|       833| 1.3214609115605191|\n",
            "|      1959| 18.181597222222223|\n",
            "|      2122|  17.39958714243586|\n",
            "|      1238|  6.436788378484492|\n",
            "|      1829| 19.927321826934367|\n",
            "|       148|                6.6|\n",
            "|      2235|  17.75985272057821|\n",
            "|      1025|  3.556086603259571|\n",
            "|       737|0.34909264565425024|\n",
            "|      1127|  3.755015839493136|\n",
            "|      1507|  8.420525059665872|\n",
            "|      1522|    9.3915770609319|\n",
            "|       858| 2.2324019344438475|\n",
            "|      1721| 13.420672409002501|\n",
            "|       540| 6.1240045506257115|\n",
            "|       623|   6.92806484295846|\n",
            "|      1650| 15.246485224680354|\n",
            "+----------+-------------------+\n",
            "only showing top 20 rows\n",
            "\n"
          ]
        }
      ],
      "source": [
        "twoseven_df_arr_times_del = twoseven_df_times_del.groupby('CRSArrTime').\\\n",
        "agg(\n",
        "    avg('ArrDelay').alias('ArrDelayAvg'))\n",
        "twoseven_df_arr_times_del.show()"
      ]
    },
    {
      "cell_type": "code",
      "execution_count": null,
      "metadata": {
        "colab": {
          "base_uri": "https://localhost:8080/"
        },
        "id": "ezgx-p1huKeL",
        "outputId": "73871df0-c6e2-40ff-99b6-704b001e0541"
      },
      "outputs": [
        {
          "output_type": "stream",
          "name": "stdout",
          "text": [
            "+----------+------------------+\n",
            "|CRSArrTime|       ArrDelayAvg|\n",
            "+----------+------------------+\n",
            "|       318|              94.0|\n",
            "|       326| 80.66666666666667|\n",
            "|       259|              71.0|\n",
            "|       351|              62.0|\n",
            "|       345|              55.0|\n",
            "|       152|              39.0|\n",
            "|       321| 33.35294117647059|\n",
            "|       332|29.869565217391305|\n",
            "|       145|28.747474747474747|\n",
            "|       400|            28.325|\n",
            "|       207|              27.6|\n",
            "|       209|26.647058823529413|\n",
            "|       106|             25.48|\n",
            "|       158|24.859154929577464|\n",
            "|       303|24.724137931034484|\n",
            "|       211|              24.5|\n",
            "|        56|23.678466076696164|\n",
            "|         6|23.598146588037068|\n",
            "|         4|  22.4735516372796|\n",
            "|      1913|22.470636889991727|\n",
            "+----------+------------------+\n",
            "only showing top 20 rows\n",
            "\n"
          ]
        }
      ],
      "source": [
        "twoseven_df_arr_times_del.orderBy('ArrDelayAvg', ascending=False).show()"
      ]
    },
    {
      "cell_type": "code",
      "execution_count": null,
      "metadata": {
        "id": "A5P-DtFBuKeM",
        "colab": {
          "base_uri": "https://localhost:8080/"
        },
        "outputId": "76477027-0767-4560-890a-58a5df3ac0c4"
      },
      "outputs": [
        {
          "output_type": "stream",
          "name": "stdout",
          "text": [
            "+----------+-------------------+\n",
            "|CRSArrTime|        ArrDelayAvg|\n",
            "+----------+-------------------+\n",
            "|       353|               NULL|\n",
            "|      2400|               NULL|\n",
            "|         0|               NULL|\n",
            "|       417|               NULL|\n",
            "|       235|              -23.0|\n",
            "|       407|              -23.0|\n",
            "|       403|              -22.0|\n",
            "|       214|              -16.0|\n",
            "|       446|-14.824324324324325|\n",
            "|       411|            -14.375|\n",
            "|       449|-14.333333333333334|\n",
            "|       243|  -9.30232558139535|\n",
            "|       453|              -9.24|\n",
            "|       430| -9.148148148148149|\n",
            "|       541| -8.560975609756097|\n",
            "|       406|               -7.0|\n",
            "|       631| -6.172069825436409|\n",
            "|       434| -5.866666666666666|\n",
            "|       201| -5.612903225806452|\n",
            "|       141|               -5.4|\n",
            "+----------+-------------------+\n",
            "only showing top 20 rows\n",
            "\n"
          ]
        }
      ],
      "source": [
        "twoseven_df_arr_times_del.orderBy('ArrDelayAvg', ascending=True).show()"
      ]
    },
    {
      "cell_type": "code",
      "execution_count": null,
      "metadata": {
        "id": "4B59YKHQuKeM",
        "colab": {
          "base_uri": "https://localhost:8080/"
        },
        "outputId": "2c501fce-9563-409d-9a09-daf8bdb000fe"
      },
      "outputs": [
        {
          "output_type": "execute_result",
          "data": {
            "text/plain": [
              "1398"
            ]
          },
          "metadata": {},
          "execution_count": 247
        }
      ],
      "source": [
        "twoseven_df_arr_times_del.count()"
      ]
    },
    {
      "cell_type": "code",
      "execution_count": null,
      "metadata": {
        "id": "5KiQGaR1uKeN"
      },
      "outputs": [],
      "source": [
        "p_twoseven_df_arr_times_del = twoseven_df_arr_times_del.limit(2_000).toPandas()"
      ]
    },
    {
      "cell_type": "code",
      "execution_count": 253,
      "metadata": {
        "id": "mG_D8PBduKeN",
        "colab": {
          "base_uri": "https://localhost:8080/",
          "height": 510
        },
        "outputId": "7aa606f1-213a-49af-bc1d-c446217a95b0"
      },
      "outputs": [
        {
          "output_type": "execute_result",
          "data": {
            "text/plain": [
              "Text(0.5, 1.0, 'Bar Chart of ArrDelayAvg by CRSArrTime')"
            ]
          },
          "metadata": {},
          "execution_count": 253
        },
        {
          "output_type": "display_data",
          "data": {
            "text/plain": [
              "<Figure size 640x480 with 1 Axes>"
            ],
            "image/png": "[encoded data removed]"
          },
          "metadata": {}
        }
      ],
      "source": [
        "# Create a bar chart\n",
        "p_twoseven_df_arr_times_del.plot(x='CRSArrTime', y='ArrDelayAvg', kind='bar')\n",
        "\n",
        "# Set labels and title\n",
        "plt.xlabel(\"CRSArrTime\")\n",
        "plt.ylabel(\"ArrDelayAvg\")\n",
        "plt.title(\"Bar Chart of ArrDelayAvg by CRSArrTime\")"
      ]
    },
    {
      "cell_type": "code",
      "execution_count": null,
      "metadata": {
        "id": "ydRqWyEMsQ7-"
      },
      "outputs": [],
      "source": []
    },
    {
      "cell_type": "code",
      "execution_count": null,
      "metadata": {
        "id": "vlXlBEIWsQ5k"
      },
      "outputs": [],
      "source": []
    },
    {
      "cell_type": "code",
      "execution_count": 254,
      "metadata": {
        "id": "VBdXZirQ0Wwn",
        "colab": {
          "base_uri": "https://localhost:8080/"
        },
        "outputId": "53dd66cb-98f3-4842-8614-40b019d5f815"
      },
      "outputs": [
        {
          "output_type": "stream",
          "name": "stdout",
          "text": [
            "+----------+-------------------+\n",
            "|CRSArrTime|        ArrDelayAvg|\n",
            "+----------+-------------------+\n",
            "|      1645|  9.875013035770154|\n",
            "|      2142| 15.843181818181819|\n",
            "|      1342|  7.977380952380952|\n",
            "|      2122| 12.829296424452133|\n",
            "|      1829| 15.903433162892622|\n",
            "|       833| 0.6608187134502924|\n",
            "|      1959| 16.503421490660255|\n",
            "|      1238|  6.121393460141055|\n",
            "|       148| 12.860759493670885|\n",
            "|      2235| 13.388091772371249|\n",
            "|      1025|  2.207188160676533|\n",
            "|       858|  4.265901981230448|\n",
            "|      1507|  7.878755074424898|\n",
            "|      1127|  3.896636587366694|\n",
            "|       737|0.48172757475083056|\n",
            "|      1721| 11.717948717948717|\n",
            "|      1522|  8.974006116207951|\n",
            "|       623| 1.8975356679636834|\n",
            "|       540|  2.669761273209549|\n",
            "|      1650|  10.07308732710662|\n",
            "+----------+-------------------+\n",
            "only showing top 20 rows\n",
            "\n"
          ]
        }
      ],
      "source": [
        "twoeight_df_arr_times_del = twoeight_df_times_del.groupby('CRSArrTime').\\\n",
        "agg(\n",
        "    avg('ArrDelay').alias('ArrDelayAvg'))\n",
        "twoeight_df_arr_times_del.show()"
      ]
    },
    {
      "cell_type": "code",
      "execution_count": 255,
      "metadata": {
        "id": "ORvBl9p10Ww8",
        "colab": {
          "base_uri": "https://localhost:8080/"
        },
        "outputId": "6a192649-8a95-4204-f615-af7e61ffd46c"
      },
      "outputs": [
        {
          "output_type": "stream",
          "name": "stdout",
          "text": [
            "+----------+------------------+\n",
            "|CRSArrTime|       ArrDelayAvg|\n",
            "+----------+------------------+\n",
            "|       151|             227.0|\n",
            "|       402|             195.0|\n",
            "|       411|              68.0|\n",
            "|       410|              58.0|\n",
            "|       200|              57.0|\n",
            "|       209|              36.5|\n",
            "|       257|              35.0|\n",
            "|       429|             30.68|\n",
            "|       141|30.428571428571427|\n",
            "|       436|             29.75|\n",
            "|       157|28.341463414634145|\n",
            "|       350|              27.0|\n",
            "|       341|           26.4625|\n",
            "|        42|23.581632653061224|\n",
            "|       103|23.359477124183005|\n",
            "|      1929| 23.16261042004687|\n",
            "|       146| 22.69607843137255|\n",
            "|        38|21.672463768115943|\n",
            "|       507| 20.24468085106383|\n",
            "|       440|19.857142857142858|\n",
            "+----------+------------------+\n",
            "only showing top 20 rows\n",
            "\n"
          ]
        }
      ],
      "source": [
        "twoeight_df_arr_times_del.orderBy('ArrDelayAvg', ascending=False).show()"
      ]
    },
    {
      "cell_type": "code",
      "execution_count": 256,
      "metadata": {
        "id": "e6JJKOtb0Ww9",
        "colab": {
          "base_uri": "https://localhost:8080/"
        },
        "outputId": "4ad63cd2-5d8b-417b-810b-b82fc8281477"
      },
      "outputs": [
        {
          "output_type": "stream",
          "name": "stdout",
          "text": [
            "+----------+-------------------+\n",
            "|CRSArrTime|        ArrDelayAvg|\n",
            "+----------+-------------------+\n",
            "|      2400|               NULL|\n",
            "|       145|               NULL|\n",
            "|       238|               NULL|\n",
            "|       245|               NULL|\n",
            "|       400|               NULL|\n",
            "|       321|-20.046511627906977|\n",
            "|       150|              -17.0|\n",
            "|       206|              -17.0|\n",
            "|       417|             -16.75|\n",
            "|       230|              -15.0|\n",
            "|       442|-14.214285714285714|\n",
            "|       342|              -14.0|\n",
            "|       204|              -14.0|\n",
            "|       120|-13.285714285714286|\n",
            "|       324|              -12.6|\n",
            "|       408|              -12.0|\n",
            "|       347|-11.454545454545455|\n",
            "|       114|-11.102189781021897|\n",
            "|       229|              -10.2|\n",
            "|       437|  -9.82258064516129|\n",
            "+----------+-------------------+\n",
            "only showing top 20 rows\n",
            "\n"
          ]
        }
      ],
      "source": [
        "twoeight_df_arr_times_del.orderBy('ArrDelayAvg', ascending=True).show()"
      ]
    },
    {
      "cell_type": "code",
      "execution_count": 257,
      "metadata": {
        "id": "lbKpueK60Ww9",
        "colab": {
          "base_uri": "https://localhost:8080/"
        },
        "outputId": "33ffedcb-a3c4-4ce7-94fe-6fdaed8cecbe"
      },
      "outputs": [
        {
          "output_type": "execute_result",
          "data": {
            "text/plain": [
              "1378"
            ]
          },
          "metadata": {},
          "execution_count": 257
        }
      ],
      "source": [
        "twoeight_df_arr_times_del.count()"
      ]
    },
    {
      "cell_type": "code",
      "execution_count": 258,
      "metadata": {
        "id": "VdA8pNfV0Ww-"
      },
      "outputs": [],
      "source": [
        "p_twoeight_df_arr_times_del = twoeight_df_arr_times_del.limit(2_000).toPandas()"
      ]
    },
    {
      "cell_type": "code",
      "execution_count": 259,
      "metadata": {
        "id": "QTBLIaW10Ww-",
        "colab": {
          "base_uri": "https://localhost:8080/",
          "height": 510
        },
        "outputId": "e78ebe68-74d8-4d75-d97f-155d3f02c81e"
      },
      "outputs": [
        {
          "output_type": "execute_result",
          "data": {
            "text/plain": [
              "Text(0.5, 1.0, 'Bar Chart of ArrDelayAvg by CRSArrTime')"
            ]
          },
          "metadata": {},
          "execution_count": 259
        },
        {
          "output_type": "display_data",
          "data": {
            "text/plain": [
              "<Figure size 640x480 with 1 Axes>"
            ],
            "image/png": "[encoded data removed]"
          },
          "metadata": {}
        }
      ],
      "source": [
        "# Create a bar chart\n",
        "p_twoeight_df_arr_times_del.plot(x='CRSArrTime', y='ArrDelayAvg', kind='bar')\n",
        "\n",
        "# Set labels and title\n",
        "plt.xlabel(\"CRSArrTime\")\n",
        "plt.ylabel(\"ArrDelayAvg\")\n",
        "plt.title(\"Bar Chart of ArrDelayAvg by CRSArrTime\")"
      ]
    },
    {
      "cell_type": "code",
      "execution_count": null,
      "metadata": {
        "id": "xOCPBOKLusQt"
      },
      "outputs": [],
      "source": []
    },
    {
      "cell_type": "code",
      "execution_count": null,
      "metadata": {
        "id": "96UtjQS6usLj"
      },
      "outputs": [],
      "source": []
    },
    {
      "cell_type": "code",
      "execution_count": null,
      "metadata": {
        "id": "Hi40-TLVusJT"
      },
      "outputs": [],
      "source": [
        "# In conclusion, there are certain time of the day that has worst delays on average.\n",
        "# In 2007: The worst DepDelay is at 5:7 and the least DepDelay is at 3:15.\n",
        "#          The worst ArrDelay is at 3:18 and the least ArrDelay is tied at 2:35 and 4:07.\n",
        "# In 2008: The worst DepDelay is at 3:10 and the least DepDelay is at 5:16.\n",
        "#          The worst ArrDelay is at 1:51 and the least ArrDelay is at 3:21.\n"
      ]
    },
    {
      "cell_type": "code",
      "execution_count": null,
      "metadata": {
        "id": "IVAz_F4cutX_"
      },
      "outputs": [],
      "source": []
    },
    {
      "cell_type": "code",
      "execution_count": null,
      "metadata": {
        "id": "0Wc_-XgZutU7"
      },
      "outputs": [],
      "source": []
    },
    {
      "cell_type": "code",
      "execution_count": null,
      "metadata": {
        "id": "wkOXuBVVSBn7"
      },
      "outputs": [],
      "source": [
        "#Your final output should look like a chart (i.e. bar chart, line chart, etc.), the chart can also be supplemented by a table as needed.\n"
      ]
    }
  ],
  "metadata": {
    "colab": {
      "provenance": []
    },
    "kernelspec": {
      "display_name": "Python 3",
      "name": "python3"
    },
    "language_info": {
      "name": "python"
    }
  },
  "nbformat": 4,
  "nbformat_minor": 0
}